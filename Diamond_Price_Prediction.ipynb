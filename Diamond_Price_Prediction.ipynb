{
 "cells": [
  {
   "cell_type": "code",
   "execution_count": 245,
   "metadata": {},
   "outputs": [
    {
     "name": "stdout",
     "output_type": "stream",
     "text": [
      "The autoreload extension is already loaded. To reload it, use:\n",
      "  %reload_ext autoreload\n"
     ]
    }
   ],
   "source": [
    "# Standard imports\n",
    "import numpy as np\n",
    "import pandas as pd\n",
    "from datetime import datetime\n",
    "\n",
    "# Visualization\n",
    "import matplotlib.pyplot as plt\n",
    "import seaborn as sns\n",
    "\n",
    "# for saving the pipeline\n",
    "import joblib\n",
    "\n",
    "# from Scikit-learn\n",
    "from sklearn.model_selection import train_test_split\n",
    "from sklearn.preprocessing import StandardScaler, MinMaxScaler, Binarizer\n",
    "from sklearn.feature_selection import SelectFromModel\n",
    "from sklearn.pipeline import Pipeline\n",
    "from sklearn.preprocessing import LabelEncoder\n",
    "from sklearn import metrics\n",
    "\n",
    "# from feature-engine\n",
    "from feature_engine.imputation import (\n",
    "    AddMissingIndicator,\n",
    "    MeanMedianImputer,\n",
    "    CategoricalImputer,\n",
    ")\n",
    "\n",
    "from feature_engine.encoding import (\n",
    "    RareLabelEncoder,\n",
    "    OrdinalEncoder,\n",
    ")\n",
    "\n",
    "from feature_engine.encoding import OneHotEncoder\n",
    "from feature_engine.transformation import (\n",
    "    LogTransformer,\n",
    "    YeoJohnsonTransformer,\n",
    ")\n",
    "\n",
    "from feature_engine.discretisation import EqualFrequencyDiscretiser\n",
    "\n",
    "from feature_engine.selection import DropFeatures\n",
    "from feature_engine.wrappers import SklearnTransformerWrapper\n",
    "\n",
    "# Built-in library\n",
    "import itertools\n",
    "import re\n",
    "import json\n",
    "import typing as tp\n",
    "\n",
    "# pandas settings\n",
    "pd.options.display.max_rows = 1_000\n",
    "pd.options.display.max_columns = 1_000\n",
    "pd.options.display.max_colwidth = 600\n",
    "\n",
    "# auto reload imports\n",
    "%load_ext autoreload\n",
    "%autoreload 2"
   ]
  },
  {
   "cell_type": "code",
   "execution_count": 246,
   "metadata": {},
   "outputs": [
    {
     "data": {
      "text/html": [
       "<div>\n",
       "<style scoped>\n",
       "    .dataframe tbody tr th:only-of-type {\n",
       "        vertical-align: middle;\n",
       "    }\n",
       "\n",
       "    .dataframe tbody tr th {\n",
       "        vertical-align: top;\n",
       "    }\n",
       "\n",
       "    .dataframe thead th {\n",
       "        text-align: right;\n",
       "    }\n",
       "</style>\n",
       "<table border=\"1\" class=\"dataframe\">\n",
       "  <thead>\n",
       "    <tr style=\"text-align: right;\">\n",
       "      <th></th>\n",
       "      <th>Month</th>\n",
       "      <th>Manager Name</th>\n",
       "      <th>I/O</th>\n",
       "      <th>Barcode</th>\n",
       "      <th>Org Crts</th>\n",
       "      <th>ASK Purity</th>\n",
       "      <th>Final Purity</th>\n",
       "      <th>Purity group</th>\n",
       "      <th>ASK Color</th>\n",
       "      <th>Final Color</th>\n",
       "      <th>Color Group</th>\n",
       "      <th>Ask Crts</th>\n",
       "      <th>Fin Crts</th>\n",
       "      <th>Size Group</th>\n",
       "      <th>ASK P</th>\n",
       "      <th>Final Pointer</th>\n",
       "      <th>Final Value</th>\n",
       "      <th>F value</th>\n",
       "      <th>Jiram Value</th>\n",
       "      <th>Pointer Diff</th>\n",
       "      <th>Ask P Diff</th>\n",
       "      <th>Ask Size</th>\n",
       "      <th>S Purity</th>\n",
       "      <th>new_column</th>\n",
       "      <th>Diamond Price</th>\n",
       "    </tr>\n",
       "  </thead>\n",
       "  <tbody>\n",
       "    <tr>\n",
       "      <th>0</th>\n",
       "      <td>Jan-23</td>\n",
       "      <td>Inhouse</td>\n",
       "      <td>Inside</td>\n",
       "      <td>222625-37.1</td>\n",
       "      <td>0.209</td>\n",
       "      <td>N4</td>\n",
       "      <td>N4</td>\n",
       "      <td>I1 &amp; above</td>\n",
       "      <td>G</td>\n",
       "      <td>G</td>\n",
       "      <td>G-J</td>\n",
       "      <td>0.180</td>\n",
       "      <td>0.180</td>\n",
       "      <td>0.18-0.299</td>\n",
       "      <td>0.18</td>\n",
       "      <td>0.18</td>\n",
       "      <td>76.5</td>\n",
       "      <td>0.0</td>\n",
       "      <td>0.0</td>\n",
       "      <td>0.00</td>\n",
       "      <td>0.00</td>\n",
       "      <td>0.18 - 0.299</td>\n",
       "      <td>SI1 &amp; DOWN</td>\n",
       "      <td>USA</td>\n",
       "      <td>7650.0</td>\n",
       "    </tr>\n",
       "    <tr>\n",
       "      <th>1</th>\n",
       "      <td>Jan-23</td>\n",
       "      <td>Inhouse</td>\n",
       "      <td>Inside</td>\n",
       "      <td>222625A-6.1</td>\n",
       "      <td>0.171</td>\n",
       "      <td>I2</td>\n",
       "      <td>I2</td>\n",
       "      <td>I1 &amp; above</td>\n",
       "      <td>G</td>\n",
       "      <td>G</td>\n",
       "      <td>G-J</td>\n",
       "      <td>0.140</td>\n",
       "      <td>0.128</td>\n",
       "      <td>0.14-0.179</td>\n",
       "      <td>0.14</td>\n",
       "      <td>0.12</td>\n",
       "      <td>60.160000000000004</td>\n",
       "      <td>0.0</td>\n",
       "      <td>0.0</td>\n",
       "      <td>0.00</td>\n",
       "      <td>-0.02</td>\n",
       "      <td>0.14 - 0.179</td>\n",
       "      <td>SI1 &amp; DOWN</td>\n",
       "      <td>Belgium</td>\n",
       "      <td>4800</td>\n",
       "    </tr>\n",
       "    <tr>\n",
       "      <th>2</th>\n",
       "      <td>Jan-23</td>\n",
       "      <td>Inhouse</td>\n",
       "      <td>Inside</td>\n",
       "      <td>222645-607</td>\n",
       "      <td>0.173</td>\n",
       "      <td>I2-</td>\n",
       "      <td>I2-</td>\n",
       "      <td>I1 &amp; above</td>\n",
       "      <td>G</td>\n",
       "      <td>H</td>\n",
       "      <td>G-J</td>\n",
       "      <td>0.142</td>\n",
       "      <td>0.132</td>\n",
       "      <td>0.14-0.179</td>\n",
       "      <td>0.14</td>\n",
       "      <td>0.13</td>\n",
       "      <td>49.5</td>\n",
       "      <td>0.0</td>\n",
       "      <td>0.0</td>\n",
       "      <td>-0.01</td>\n",
       "      <td>-0.01</td>\n",
       "      <td>0.14 - 0.179</td>\n",
       "      <td>SI1 &amp; DOWN</td>\n",
       "      <td>Belgium</td>\n",
       "      <td>5395.999999999999</td>\n",
       "    </tr>\n",
       "    <tr>\n",
       "      <th>3</th>\n",
       "      <td>Jan-23</td>\n",
       "      <td>Inhouse</td>\n",
       "      <td>Inside</td>\n",
       "      <td>222665-486</td>\n",
       "      <td>0.625</td>\n",
       "      <td>N2</td>\n",
       "      <td>N2</td>\n",
       "      <td>I1 &amp; above</td>\n",
       "      <td>I</td>\n",
       "      <td>I</td>\n",
       "      <td>G-J</td>\n",
       "      <td>0.489</td>\n",
       "      <td>0.465</td>\n",
       "      <td>0.3 &amp; up</td>\n",
       "      <td>0.48</td>\n",
       "      <td>0.46</td>\n",
       "      <td>627.75</td>\n",
       "      <td>0.0</td>\n",
       "      <td>0.0</td>\n",
       "      <td>-0.02</td>\n",
       "      <td>-0.02</td>\n",
       "      <td>0.3 &amp; Up</td>\n",
       "      <td>SI1 &amp; DOWN</td>\n",
       "      <td>UAE</td>\n",
       "      <td>66015.0</td>\n",
       "    </tr>\n",
       "    <tr>\n",
       "      <th>4</th>\n",
       "      <td>Jan-23</td>\n",
       "      <td>Diamcor Mining</td>\n",
       "      <td>Outside</td>\n",
       "      <td>227530-1-01</td>\n",
       "      <td>0.006</td>\n",
       "      <td>VS2</td>\n",
       "      <td>VS1</td>\n",
       "      <td>VS1-VS2</td>\n",
       "      <td>G</td>\n",
       "      <td>H</td>\n",
       "      <td>G-J</td>\n",
       "      <td>0.005</td>\n",
       "      <td>0.005</td>\n",
       "      <td>0.019 &amp; below</td>\n",
       "      <td>0.00</td>\n",
       "      <td>0.00</td>\n",
       "      <td>2.725</td>\n",
       "      <td>0.0</td>\n",
       "      <td>0.0</td>\n",
       "      <td>0.00</td>\n",
       "      <td>0.00</td>\n",
       "      <td>0 - 0.019</td>\n",
       "      <td>IF TO VS2</td>\n",
       "      <td>Hong Kong</td>\n",
       "      <td>252.5</td>\n",
       "    </tr>\n",
       "  </tbody>\n",
       "</table>\n",
       "</div>"
      ],
      "text/plain": [
       "    Month    Manager Name      I/O      Barcode  Org Crts ASK Purity  \\\n",
       "0  Jan-23         Inhouse   Inside  222625-37.1     0.209         N4   \n",
       "1  Jan-23         Inhouse   Inside  222625A-6.1     0.171         I2   \n",
       "2  Jan-23         Inhouse   Inside   222645-607     0.173        I2-   \n",
       "3  Jan-23         Inhouse   Inside   222665-486     0.625         N2   \n",
       "4  Jan-23  Diamcor Mining  Outside  227530-1-01     0.006        VS2   \n",
       "\n",
       "  Final Purity Purity group ASK Color Final Color Color Group  Ask Crts  \\\n",
       "0           N4   I1 & above         G           G         G-J     0.180   \n",
       "1           I2   I1 & above         G           G         G-J     0.140   \n",
       "2          I2-   I1 & above         G           H         G-J     0.142   \n",
       "3           N2   I1 & above         I           I         G-J     0.489   \n",
       "4          VS1      VS1-VS2         G           H         G-J     0.005   \n",
       "\n",
       "   Fin Crts     Size Group  ASK P  Final Pointer         Final Value  F value  \\\n",
       "0     0.180     0.18-0.299   0.18           0.18                76.5      0.0   \n",
       "1     0.128     0.14-0.179   0.14           0.12  60.160000000000004      0.0   \n",
       "2     0.132     0.14-0.179   0.14           0.13                49.5      0.0   \n",
       "3     0.465       0.3 & up   0.48           0.46              627.75      0.0   \n",
       "4     0.005  0.019 & below   0.00           0.00               2.725      0.0   \n",
       "\n",
       "   Jiram Value  Pointer Diff  Ask P Diff      Ask Size    S Purity new_column  \\\n",
       "0          0.0          0.00        0.00  0.18 - 0.299  SI1 & DOWN        USA   \n",
       "1          0.0          0.00       -0.02  0.14 - 0.179  SI1 & DOWN    Belgium   \n",
       "2          0.0         -0.01       -0.01  0.14 - 0.179  SI1 & DOWN    Belgium   \n",
       "3          0.0         -0.02       -0.02      0.3 & Up  SI1 & DOWN        UAE   \n",
       "4          0.0          0.00        0.00     0 - 0.019   IF TO VS2  Hong Kong   \n",
       "\n",
       "       Diamond Price  \n",
       "0             7650.0  \n",
       "1               4800  \n",
       "2  5395.999999999999  \n",
       "3            66015.0  \n",
       "4              252.5  "
      ]
     },
     "execution_count": 246,
     "metadata": {},
     "output_type": "execute_result"
    }
   ],
   "source": [
    "df = pd.read_csv(\"Cleaned_diamond_data.csv\")\n",
    "df1 = df.copy()\n",
    "df1.head()"
   ]
  },
  {
   "cell_type": "code",
   "execution_count": 247,
   "metadata": {},
   "outputs": [
    {
     "name": "stdout",
     "output_type": "stream",
     "text": [
      "<class 'pandas.core.frame.DataFrame'>\n",
      "RangeIndex: 577046 entries, 0 to 577045\n",
      "Data columns (total 25 columns):\n",
      " #   Column         Non-Null Count   Dtype  \n",
      "---  ------         --------------   -----  \n",
      " 0   Month          577046 non-null  object \n",
      " 1   Manager Name   577046 non-null  object \n",
      " 2   I/O            577046 non-null  object \n",
      " 3   Barcode        577046 non-null  object \n",
      " 4   Org Crts       577046 non-null  float64\n",
      " 5   ASK Purity     577046 non-null  object \n",
      " 6   Final Purity   577046 non-null  object \n",
      " 7   Purity group   577046 non-null  object \n",
      " 8   ASK Color      577046 non-null  object \n",
      " 9   Final Color    577046 non-null  object \n",
      " 10  Color Group    577046 non-null  object \n",
      " 11  Ask Crts       577046 non-null  float64\n",
      " 12  Fin Crts       577046 non-null  float64\n",
      " 13  Size Group     577046 non-null  object \n",
      " 14  ASK P          577046 non-null  float64\n",
      " 15  Final Pointer  577046 non-null  float64\n",
      " 16  Final Value    577046 non-null  object \n",
      " 17  F value        577046 non-null  float64\n",
      " 18  Jiram Value    577046 non-null  float64\n",
      " 19  Pointer Diff   577046 non-null  float64\n",
      " 20  Ask P Diff     577046 non-null  float64\n",
      " 21  Ask Size       577046 non-null  object \n",
      " 22  S Purity       577046 non-null  object \n",
      " 23  new_column     577046 non-null  object \n",
      " 24  Diamond Price  577046 non-null  object \n",
      "dtypes: float64(9), object(16)\n",
      "memory usage: 110.1+ MB\n"
     ]
    },
    {
     "data": {
      "text/plain": [
       "(None, (577046, 25))"
      ]
     },
     "execution_count": 247,
     "metadata": {},
     "output_type": "execute_result"
    }
   ],
   "source": [
    "df1.info(), df1.shape"
   ]
  },
  {
   "cell_type": "markdown",
   "metadata": {},
   "source": [
    "## Feature Selection\n",
    "\n",
    "* ### Check the Correlation of Features\n",
    "\n",
    "* Subsets of features are evaluated by correlation feature selection based on the following hypothesis: \"Good feature subsets contain features highly correlated with the target, yet uncorrelated to each other\".\n",
    "\n",
    "```\n",
    "References:\n",
    "M. Hal, Correlation-based Feature Selection for Machine Learning\n",
    "```"
   ]
  },
  {
   "cell_type": "code",
   "execution_count": 248,
   "metadata": {},
   "outputs": [],
   "source": [
    "def get_correlated_features(*, data: pd.DataFrame, threshold: float) -> list:\n",
    "    \"\"\"This is used to return a list of highly correlated features.\"\"\"\n",
    "    # Select only numeric data\n",
    "    num_data = data.select_dtypes(include=[int, float])\n",
    "\n",
    "    # Store the correlated columns\n",
    "    col_corr = set()\n",
    "\n",
    "    # Correlation matrix\n",
    "    corr_matrix = num_data.corr()\n",
    "\n",
    "    for i in range(len(corr_matrix.columns)):\n",
    "\n",
    "        # check with other features\n",
    "        for j in range(i):\n",
    "\n",
    "            # if the correlation is higher than a certain threshold\n",
    "            if abs(corr_matrix.iloc[i, j]) > threshold:\n",
    "\n",
    "                # print correlation, and variables examined\n",
    "                # keep in mind that the columns and rows of the dataframe are identical\n",
    "                # so we can identify the features being examned by looking for i,j\n",
    "                # in the column names\n",
    "                print(\n",
    "                    f\"correlation: {abs(corr_matrix.iloc[i, j])}, \"\n",
    "                    f\"feature 1:{corr_matrix.columns[i]}, feature 2:{corr_matrix.columns[j]}\"\n",
    "                )\n",
    "\n",
    "                # Get the name of the correlated feature\n",
    "                col_name = corr_matrix.columns[j]\n",
    "\n",
    "                # and add it to our correlated set\n",
    "                col_corr.add(col_name)\n",
    "\n",
    "    return list(col_corr)"
   ]
  },
  {
   "cell_type": "code",
   "execution_count": 249,
   "metadata": {},
   "outputs": [
    {
     "name": "stdout",
     "output_type": "stream",
     "text": [
      "correlation: 0.9675600194262971, feature 1:Ask Crts, feature 2:Org Crts\n",
      "correlation: 0.9676063652731725, feature 1:Fin Crts, feature 2:Org Crts\n",
      "correlation: 0.9974915919789737, feature 1:Fin Crts, feature 2:Ask Crts\n",
      "correlation: 0.9661684805293962, feature 1:ASK P, feature 2:Org Crts\n",
      "correlation: 0.9990581116891716, feature 1:ASK P, feature 2:Ask Crts\n",
      "correlation: 0.9967614246963487, feature 1:ASK P, feature 2:Fin Crts\n",
      "correlation: 0.9653018813126741, feature 1:Final Pointer, feature 2:Org Crts\n",
      "correlation: 0.9954229754644264, feature 1:Final Pointer, feature 2:Ask Crts\n",
      "correlation: 0.9981475586667286, feature 1:Final Pointer, feature 2:Fin Crts\n",
      "correlation: 0.9950028049316185, feature 1:Final Pointer, feature 2:ASK P\n",
      "correlation: 1.0, feature 1:Jiram Value, feature 2:F value\n"
     ]
    },
    {
     "data": {
      "text/plain": [
       "['Ask Crts', 'F value', 'ASK P', 'Fin Crts', 'Org Crts']"
      ]
     },
     "execution_count": 249,
     "metadata": {},
     "output_type": "execute_result"
    }
   ],
   "source": [
    "get_correlated_features(data=df1, threshold=0.75)"
   ]
  },
  {
   "cell_type": "code",
   "execution_count": 250,
   "metadata": {},
   "outputs": [],
   "source": [
    "df1 = df1.drop(columns=['Ask Crts', 'F value', 'ASK P', 'Fin Crts', 'Org Crts'])"
   ]
  },
  {
   "cell_type": "code",
   "execution_count": 251,
   "metadata": {},
   "outputs": [
    {
     "data": {
      "text/plain": [
       "(577046, 20)"
      ]
     },
     "execution_count": 251,
     "metadata": {},
     "output_type": "execute_result"
    }
   ],
   "source": [
    "df1.shape"
   ]
  },
  {
   "cell_type": "markdown",
   "metadata": {},
   "source": [
    "###  Mutual information\n",
    "\n",
    "* Using mutual information, we can measure how much uncertainty is reduced in variable A when we know variable B. \n",
    "* To select variables, we are interested in the mutual information between the predictor variables and the target. \n",
    "* Higher mutual information values, indicate little uncertainty about the target Y given the predictor X."
   ]
  },
  {
   "cell_type": "code",
   "execution_count": 252,
   "metadata": {},
   "outputs": [
    {
     "data": {
      "text/plain": [
       "(array(['7650.0', '4800', '5395.999999999999', ..., '646.0000000000001',\n",
       "        '788.5', '747.0'], dtype=object),\n",
       " 10391)"
      ]
     },
     "execution_count": 252,
     "metadata": {},
     "output_type": "execute_result"
    }
   ],
   "source": [
    "df1[\"Diamond Price\"].unique(), df1[\"Diamond Price\"].nunique()"
   ]
  },
  {
   "cell_type": "code",
   "execution_count": 253,
   "metadata": {},
   "outputs": [
    {
     "data": {
      "text/plain": [
       "4080"
      ]
     },
     "execution_count": 253,
     "metadata": {},
     "output_type": "execute_result"
    }
   ],
   "source": [
    "df1[\"Diamond Price\"] = pd.to_numeric(df1[\"Diamond Price\"], errors='coerce')\n",
    "df1[\"Diamond Price\"].isna().sum()"
   ]
  },
  {
   "cell_type": "code",
   "execution_count": 254,
   "metadata": {},
   "outputs": [
    {
     "data": {
      "image/png": "[encoded data removed]",
      "text/plain": [
       "<Figure size 640x480 with 1 Axes>"
      ]
     },
     "metadata": {},
     "output_type": "display_data"
    }
   ],
   "source": [
    "plt.hist(df2[\"Diamond Price\"], bins=200)  # Adjust the number of bins as needed\n",
    "plt.title('Distribution of Data')\n",
    "plt.xlabel('Values')\n",
    "plt.ylabel('Frequency')\n",
    "plt.show()"
   ]
  },
  {
   "cell_type": "code",
   "execution_count": 255,
   "metadata": {},
   "outputs": [],
   "source": [
    "df1[\"Diamond Price\"] = df1[\"Diamond Price\"].fillna(df1['Diamond Price'].median())"
   ]
  },
  {
   "cell_type": "code",
   "execution_count": 256,
   "metadata": {},
   "outputs": [
    {
     "data": {
      "text/plain": [
       "353"
      ]
     },
     "execution_count": 256,
     "metadata": {},
     "output_type": "execute_result"
    }
   ],
   "source": [
    "df1[\"Final Value\"] = pd.to_numeric(df1[\"Final Value\"], errors='coerce')\n",
    "df1[\"Final Value\"].isna().sum()"
   ]
  },
  {
   "cell_type": "code",
   "execution_count": 257,
   "metadata": {},
   "outputs": [
    {
     "data": {
      "image/png": "[encoded data removed]",
      "text/plain": [
       "<Figure size 640x480 with 1 Axes>"
      ]
     },
     "metadata": {},
     "output_type": "display_data"
    }
   ],
   "source": [
    "plt.hist(df1[\"Final Value\"], bins=200)  # Adjust the number of bins as needed\n",
    "plt.title('Distribution of Data')\n",
    "plt.xlabel('Values')\n",
    "plt.ylabel('Frequency')\n",
    "plt.show()"
   ]
  },
  {
   "cell_type": "code",
   "execution_count": 258,
   "metadata": {},
   "outputs": [],
   "source": [
    "df1[\"Final Value\"] = df1[\"Final Value\"].fillna(df1['Final Value'].median())"
   ]
  },
  {
   "cell_type": "code",
   "execution_count": 259,
   "metadata": {},
   "outputs": [],
   "source": [
    "# Mutual information values\n",
    "from sklearn.feature_selection import mutual_info_classif, mutual_info_regression\n",
    "\n",
    "from sklearn.linear_model import LogisticRegression\n",
    "\n",
    "\n",
    "RANDOM_STATE = 123\n",
    "TEST_SIZE = 0.2\n",
    "TARGET = \"Diamond Price\""
   ]
  },
  {
   "cell_type": "code",
   "execution_count": 260,
   "metadata": {},
   "outputs": [
    {
     "data": {
      "text/plain": [
       "((461636, 19), (115410, 19), (461636,), (115410,))"
      ]
     },
     "execution_count": 260,
     "metadata": {},
     "output_type": "execute_result"
    }
   ],
   "source": [
    "df2 = df1.copy()\n",
    "X = df2.drop(columns=[TARGET])\n",
    "y = df2[TARGET]\n",
    "\n",
    "X_train, X_test, y_train, y_test = train_test_split(\n",
    "    X, y, test_size=TEST_SIZE, random_state=RANDOM_STATE\n",
    ")\n",
    "\n",
    "X_train.shape, X_test.shape, y_train.shape, y_test.shape"
   ]
  },
  {
   "cell_type": "code",
   "execution_count": 261,
   "metadata": {},
   "outputs": [
    {
     "data": {
      "text/plain": [
       "((461636, 5), (461636, 1))"
      ]
     },
     "execution_count": 261,
     "metadata": {},
     "output_type": "execute_result"
    }
   ],
   "source": [
    "y_train2 = pd.DataFrame(y_train)\n",
    "y_train2\n",
    "\n",
    "# Splitting the trainset into categorical and numerical data, to check mutual information\n",
    "x_num_variables = X_train.select_dtypes(exclude='object')\n",
    "y_num_variables = y_train2.select_dtypes(exclude='object')\n",
    "x_num_variables.shape, y_num_variables.shape"
   ]
  },
  {
   "cell_type": "code",
   "execution_count": 262,
   "metadata": {},
   "outputs": [
    {
     "data": {
      "text/plain": [
       "array([1.96127184, 3.71670599, 0.0059816 , 0.17408418, 0.14674132])"
      ]
     },
     "execution_count": 262,
     "metadata": {},
     "output_type": "execute_result"
    }
   ],
   "source": [
    "# Calculate the mutual information between the variables and the target\n",
    "# Note: The lower the mi value, the less can be inferred about the target from the feature.\n",
    "\n",
    "# You should consider scaling the features\n",
    "\n",
    "MI = mutual_info_regression(x_num_variables, y_train, random_state=RANDOM_STATE)\n",
    "MI"
   ]
  },
  {
   "cell_type": "code",
   "execution_count": 263,
   "metadata": {},
   "outputs": [
    {
     "data": {
      "image/png": "[encoded data removed]",
      "text/plain": [
       "<Figure size 800x300 with 1 Axes>"
      ]
     },
     "metadata": {},
     "output_type": "display_data"
    }
   ],
   "source": [
    "# Visualize The Feature Importance\n",
    "\n",
    "feat_importance = pd.Series(MI)\n",
    "feat_importance.index = x_num_variables.columns\n",
    "feat_importance.sort_values(ascending=False).plot(\n",
    "    kind=\"bar\",\n",
    "    ylabel=\"Mutual Information\",\n",
    "    title=\"Feature Importance (The higher, the better!)\",\n",
    "    figsize=(8, 3),\n",
    ")\n",
    "plt.show()"
   ]
  },
  {
   "cell_type": "markdown",
   "metadata": {},
   "source": [
    "Due to the fact that higher is better, I will drop the last feature(Jiram Value) with very low mutual information"
   ]
  },
  {
   "cell_type": "code",
   "execution_count": 264,
   "metadata": {},
   "outputs": [
    {
     "data": {
      "text/html": [
       "<div>\n",
       "<style scoped>\n",
       "    .dataframe tbody tr th:only-of-type {\n",
       "        vertical-align: middle;\n",
       "    }\n",
       "\n",
       "    .dataframe tbody tr th {\n",
       "        vertical-align: top;\n",
       "    }\n",
       "\n",
       "    .dataframe thead th {\n",
       "        text-align: right;\n",
       "    }\n",
       "</style>\n",
       "<table border=\"1\" class=\"dataframe\">\n",
       "  <thead>\n",
       "    <tr style=\"text-align: right;\">\n",
       "      <th></th>\n",
       "      <th>Month</th>\n",
       "      <th>Manager Name</th>\n",
       "      <th>I/O</th>\n",
       "      <th>Barcode</th>\n",
       "      <th>ASK Purity</th>\n",
       "      <th>Final Purity</th>\n",
       "      <th>Purity group</th>\n",
       "      <th>ASK Color</th>\n",
       "      <th>Final Color</th>\n",
       "      <th>Color Group</th>\n",
       "      <th>Size Group</th>\n",
       "      <th>Final Pointer</th>\n",
       "      <th>Final Value</th>\n",
       "      <th>Pointer Diff</th>\n",
       "      <th>Ask P Diff</th>\n",
       "      <th>Ask Size</th>\n",
       "      <th>S Purity</th>\n",
       "      <th>new_column</th>\n",
       "      <th>Diamond Price</th>\n",
       "    </tr>\n",
       "  </thead>\n",
       "  <tbody>\n",
       "    <tr>\n",
       "      <th>0</th>\n",
       "      <td>Jan-23</td>\n",
       "      <td>Inhouse</td>\n",
       "      <td>Inside</td>\n",
       "      <td>222625-37.1</td>\n",
       "      <td>N4</td>\n",
       "      <td>N4</td>\n",
       "      <td>I1 &amp; above</td>\n",
       "      <td>G</td>\n",
       "      <td>G</td>\n",
       "      <td>G-J</td>\n",
       "      <td>0.18-0.299</td>\n",
       "      <td>0.18</td>\n",
       "      <td>76.50</td>\n",
       "      <td>0.00</td>\n",
       "      <td>0.00</td>\n",
       "      <td>0.18 - 0.299</td>\n",
       "      <td>SI1 &amp; DOWN</td>\n",
       "      <td>USA</td>\n",
       "      <td>7650.0</td>\n",
       "    </tr>\n",
       "    <tr>\n",
       "      <th>1</th>\n",
       "      <td>Jan-23</td>\n",
       "      <td>Inhouse</td>\n",
       "      <td>Inside</td>\n",
       "      <td>222625A-6.1</td>\n",
       "      <td>I2</td>\n",
       "      <td>I2</td>\n",
       "      <td>I1 &amp; above</td>\n",
       "      <td>G</td>\n",
       "      <td>G</td>\n",
       "      <td>G-J</td>\n",
       "      <td>0.14-0.179</td>\n",
       "      <td>0.12</td>\n",
       "      <td>60.16</td>\n",
       "      <td>0.00</td>\n",
       "      <td>-0.02</td>\n",
       "      <td>0.14 - 0.179</td>\n",
       "      <td>SI1 &amp; DOWN</td>\n",
       "      <td>Belgium</td>\n",
       "      <td>4800.0</td>\n",
       "    </tr>\n",
       "    <tr>\n",
       "      <th>2</th>\n",
       "      <td>Jan-23</td>\n",
       "      <td>Inhouse</td>\n",
       "      <td>Inside</td>\n",
       "      <td>222645-607</td>\n",
       "      <td>I2-</td>\n",
       "      <td>I2-</td>\n",
       "      <td>I1 &amp; above</td>\n",
       "      <td>G</td>\n",
       "      <td>H</td>\n",
       "      <td>G-J</td>\n",
       "      <td>0.14-0.179</td>\n",
       "      <td>0.13</td>\n",
       "      <td>49.50</td>\n",
       "      <td>-0.01</td>\n",
       "      <td>-0.01</td>\n",
       "      <td>0.14 - 0.179</td>\n",
       "      <td>SI1 &amp; DOWN</td>\n",
       "      <td>Belgium</td>\n",
       "      <td>5396.0</td>\n",
       "    </tr>\n",
       "    <tr>\n",
       "      <th>3</th>\n",
       "      <td>Jan-23</td>\n",
       "      <td>Inhouse</td>\n",
       "      <td>Inside</td>\n",
       "      <td>222665-486</td>\n",
       "      <td>N2</td>\n",
       "      <td>N2</td>\n",
       "      <td>I1 &amp; above</td>\n",
       "      <td>I</td>\n",
       "      <td>I</td>\n",
       "      <td>G-J</td>\n",
       "      <td>0.3 &amp; up</td>\n",
       "      <td>0.46</td>\n",
       "      <td>627.75</td>\n",
       "      <td>-0.02</td>\n",
       "      <td>-0.02</td>\n",
       "      <td>0.3 &amp; Up</td>\n",
       "      <td>SI1 &amp; DOWN</td>\n",
       "      <td>UAE</td>\n",
       "      <td>66015.0</td>\n",
       "    </tr>\n",
       "  </tbody>\n",
       "</table>\n",
       "</div>"
      ],
      "text/plain": [
       "    Month Manager Name     I/O      Barcode ASK Purity Final Purity  \\\n",
       "0  Jan-23      Inhouse  Inside  222625-37.1         N4           N4   \n",
       "1  Jan-23      Inhouse  Inside  222625A-6.1         I2           I2   \n",
       "2  Jan-23      Inhouse  Inside   222645-607        I2-          I2-   \n",
       "3  Jan-23      Inhouse  Inside   222665-486         N2           N2   \n",
       "\n",
       "  Purity group ASK Color Final Color Color Group  Size Group  Final Pointer  \\\n",
       "0   I1 & above         G           G         G-J  0.18-0.299           0.18   \n",
       "1   I1 & above         G           G         G-J  0.14-0.179           0.12   \n",
       "2   I1 & above         G           H         G-J  0.14-0.179           0.13   \n",
       "3   I1 & above         I           I         G-J    0.3 & up           0.46   \n",
       "\n",
       "   Final Value  Pointer Diff  Ask P Diff      Ask Size    S Purity new_column  \\\n",
       "0        76.50          0.00        0.00  0.18 - 0.299  SI1 & DOWN        USA   \n",
       "1        60.16          0.00       -0.02  0.14 - 0.179  SI1 & DOWN    Belgium   \n",
       "2        49.50         -0.01       -0.01  0.14 - 0.179  SI1 & DOWN    Belgium   \n",
       "3       627.75         -0.02       -0.02      0.3 & Up  SI1 & DOWN        UAE   \n",
       "\n",
       "   Diamond Price  \n",
       "0         7650.0  \n",
       "1         4800.0  \n",
       "2         5396.0  \n",
       "3        66015.0  "
      ]
     },
     "execution_count": 264,
     "metadata": {},
     "output_type": "execute_result"
    }
   ],
   "source": [
    "df1 = df1.drop(columns=[\"Jiram Value\"])\n",
    "df1.head(4)"
   ]
  },
  {
   "cell_type": "markdown",
   "metadata": {},
   "source": [
    "From domain knowledge drop columns that have no contrbution to diamond price"
   ]
  },
  {
   "cell_type": "code",
   "execution_count": 265,
   "metadata": {},
   "outputs": [
    {
     "data": {
      "text/html": [
       "<div>\n",
       "<style scoped>\n",
       "    .dataframe tbody tr th:only-of-type {\n",
       "        vertical-align: middle;\n",
       "    }\n",
       "\n",
       "    .dataframe tbody tr th {\n",
       "        vertical-align: top;\n",
       "    }\n",
       "\n",
       "    .dataframe thead th {\n",
       "        text-align: right;\n",
       "    }\n",
       "</style>\n",
       "<table border=\"1\" class=\"dataframe\">\n",
       "  <thead>\n",
       "    <tr style=\"text-align: right;\">\n",
       "      <th></th>\n",
       "      <th>Manager Name</th>\n",
       "      <th>I/O</th>\n",
       "      <th>ASK Purity</th>\n",
       "      <th>Final Purity</th>\n",
       "      <th>Purity group</th>\n",
       "      <th>ASK Color</th>\n",
       "      <th>Final Color</th>\n",
       "      <th>Color Group</th>\n",
       "      <th>Size Group</th>\n",
       "      <th>Final Pointer</th>\n",
       "      <th>Final Value</th>\n",
       "      <th>Pointer Diff</th>\n",
       "      <th>Ask P Diff</th>\n",
       "      <th>Ask Size</th>\n",
       "      <th>S Purity</th>\n",
       "      <th>new_column</th>\n",
       "      <th>Diamond Price</th>\n",
       "    </tr>\n",
       "  </thead>\n",
       "  <tbody>\n",
       "    <tr>\n",
       "      <th>0</th>\n",
       "      <td>Inhouse</td>\n",
       "      <td>Inside</td>\n",
       "      <td>N4</td>\n",
       "      <td>N4</td>\n",
       "      <td>I1 &amp; above</td>\n",
       "      <td>G</td>\n",
       "      <td>G</td>\n",
       "      <td>G-J</td>\n",
       "      <td>0.18-0.299</td>\n",
       "      <td>0.18</td>\n",
       "      <td>76.50</td>\n",
       "      <td>0.00</td>\n",
       "      <td>0.00</td>\n",
       "      <td>0.18 - 0.299</td>\n",
       "      <td>SI1 &amp; DOWN</td>\n",
       "      <td>USA</td>\n",
       "      <td>7650.0</td>\n",
       "    </tr>\n",
       "    <tr>\n",
       "      <th>1</th>\n",
       "      <td>Inhouse</td>\n",
       "      <td>Inside</td>\n",
       "      <td>I2</td>\n",
       "      <td>I2</td>\n",
       "      <td>I1 &amp; above</td>\n",
       "      <td>G</td>\n",
       "      <td>G</td>\n",
       "      <td>G-J</td>\n",
       "      <td>0.14-0.179</td>\n",
       "      <td>0.12</td>\n",
       "      <td>60.16</td>\n",
       "      <td>0.00</td>\n",
       "      <td>-0.02</td>\n",
       "      <td>0.14 - 0.179</td>\n",
       "      <td>SI1 &amp; DOWN</td>\n",
       "      <td>Belgium</td>\n",
       "      <td>4800.0</td>\n",
       "    </tr>\n",
       "    <tr>\n",
       "      <th>2</th>\n",
       "      <td>Inhouse</td>\n",
       "      <td>Inside</td>\n",
       "      <td>I2-</td>\n",
       "      <td>I2-</td>\n",
       "      <td>I1 &amp; above</td>\n",
       "      <td>G</td>\n",
       "      <td>H</td>\n",
       "      <td>G-J</td>\n",
       "      <td>0.14-0.179</td>\n",
       "      <td>0.13</td>\n",
       "      <td>49.50</td>\n",
       "      <td>-0.01</td>\n",
       "      <td>-0.01</td>\n",
       "      <td>0.14 - 0.179</td>\n",
       "      <td>SI1 &amp; DOWN</td>\n",
       "      <td>Belgium</td>\n",
       "      <td>5396.0</td>\n",
       "    </tr>\n",
       "    <tr>\n",
       "      <th>3</th>\n",
       "      <td>Inhouse</td>\n",
       "      <td>Inside</td>\n",
       "      <td>N2</td>\n",
       "      <td>N2</td>\n",
       "      <td>I1 &amp; above</td>\n",
       "      <td>I</td>\n",
       "      <td>I</td>\n",
       "      <td>G-J</td>\n",
       "      <td>0.3 &amp; up</td>\n",
       "      <td>0.46</td>\n",
       "      <td>627.75</td>\n",
       "      <td>-0.02</td>\n",
       "      <td>-0.02</td>\n",
       "      <td>0.3 &amp; Up</td>\n",
       "      <td>SI1 &amp; DOWN</td>\n",
       "      <td>UAE</td>\n",
       "      <td>66015.0</td>\n",
       "    </tr>\n",
       "  </tbody>\n",
       "</table>\n",
       "</div>"
      ],
      "text/plain": [
       "  Manager Name     I/O ASK Purity Final Purity Purity group ASK Color  \\\n",
       "0      Inhouse  Inside         N4           N4   I1 & above         G   \n",
       "1      Inhouse  Inside         I2           I2   I1 & above         G   \n",
       "2      Inhouse  Inside        I2-          I2-   I1 & above         G   \n",
       "3      Inhouse  Inside         N2           N2   I1 & above         I   \n",
       "\n",
       "  Final Color Color Group  Size Group  Final Pointer  Final Value  \\\n",
       "0           G         G-J  0.18-0.299           0.18        76.50   \n",
       "1           G         G-J  0.14-0.179           0.12        60.16   \n",
       "2           H         G-J  0.14-0.179           0.13        49.50   \n",
       "3           I         G-J    0.3 & up           0.46       627.75   \n",
       "\n",
       "   Pointer Diff  Ask P Diff      Ask Size    S Purity new_column  \\\n",
       "0          0.00        0.00  0.18 - 0.299  SI1 & DOWN        USA   \n",
       "1          0.00       -0.02  0.14 - 0.179  SI1 & DOWN    Belgium   \n",
       "2         -0.01       -0.01  0.14 - 0.179  SI1 & DOWN    Belgium   \n",
       "3         -0.02       -0.02      0.3 & Up  SI1 & DOWN        UAE   \n",
       "\n",
       "   Diamond Price  \n",
       "0         7650.0  \n",
       "1         4800.0  \n",
       "2         5396.0  \n",
       "3        66015.0  "
      ]
     },
     "execution_count": 265,
     "metadata": {},
     "output_type": "execute_result"
    }
   ],
   "source": [
    "df1 = df1.drop(columns=[\"Month\", \"Barcode\"])\n",
    "df1.head(4)"
   ]
  },
  {
   "cell_type": "markdown",
   "metadata": {},
   "source": [
    "### Rename the colunms"
   ]
  },
  {
   "cell_type": "code",
   "execution_count": 266,
   "metadata": {},
   "outputs": [
    {
     "data": {
      "text/plain": [
       "Index(['Manager Name', 'I/O', 'ASK Purity', 'Final Purity', 'Purity group',\n",
       "       'ASK Color', 'Final Color', 'Color Group', 'Size Group',\n",
       "       'Final Pointer', 'Final Value', 'Pointer Diff', 'Ask P Diff',\n",
       "       'Ask Size', 'S Purity', 'new_column', 'Diamond Price'],\n",
       "      dtype='object')"
      ]
     },
     "execution_count": 266,
     "metadata": {},
     "output_type": "execute_result"
    }
   ],
   "source": [
    "df1.columns"
   ]
  },
  {
   "cell_type": "code",
   "execution_count": 267,
   "metadata": {},
   "outputs": [],
   "source": [
    "# df1.rename(columns = {'term':'Loan Term',\n",
    "#                       'verification_status':'Verification by Loan Company',                                        \n",
    "#                       'purpose':'Loan Purpose', \n",
    "#                       'application_type':'Application Type', \n",
    "#                       'emp_length':'Total Years of Employment', \n",
    "#                       'annual_inc':'Annual Income',\n",
    "#                       'mort_acc':'No of Mortgage Account',\n",
    "#                       'loan_status':'Loan Status',\n",
    "#                       'dti':'Income-Debt Ratio',\n",
    "#                       'open_acc':'No of Open Credit Lines',\n",
    "#                       'revol_util':'Credit Utilization Rate'}, \n",
    "#                       inplace = True)"
   ]
  },
  {
   "cell_type": "markdown",
   "metadata": {},
   "source": [
    "### Pipeline for Feature Engineering"
   ]
  },
  {
   "cell_type": "code",
   "execution_count": 268,
   "metadata": {},
   "outputs": [
    {
     "data": {
      "text/html": [
       "<div>\n",
       "<style scoped>\n",
       "    .dataframe tbody tr th:only-of-type {\n",
       "        vertical-align: middle;\n",
       "    }\n",
       "\n",
       "    .dataframe tbody tr th {\n",
       "        vertical-align: top;\n",
       "    }\n",
       "\n",
       "    .dataframe thead th {\n",
       "        text-align: right;\n",
       "    }\n",
       "</style>\n",
       "<table border=\"1\" class=\"dataframe\">\n",
       "  <thead>\n",
       "    <tr style=\"text-align: right;\">\n",
       "      <th></th>\n",
       "      <th>Manager Name</th>\n",
       "      <th>I/O</th>\n",
       "      <th>ASK Purity</th>\n",
       "      <th>Final Purity</th>\n",
       "      <th>Purity group</th>\n",
       "      <th>ASK Color</th>\n",
       "      <th>Final Color</th>\n",
       "      <th>Color Group</th>\n",
       "      <th>Size Group</th>\n",
       "      <th>Final Pointer</th>\n",
       "      <th>Final Value</th>\n",
       "      <th>Pointer Diff</th>\n",
       "      <th>Ask P Diff</th>\n",
       "      <th>Ask Size</th>\n",
       "      <th>S Purity</th>\n",
       "      <th>new_column</th>\n",
       "      <th>Diamond Price</th>\n",
       "    </tr>\n",
       "  </thead>\n",
       "  <tbody>\n",
       "    <tr>\n",
       "      <th>0</th>\n",
       "      <td>Inhouse</td>\n",
       "      <td>Inside</td>\n",
       "      <td>N4</td>\n",
       "      <td>N4</td>\n",
       "      <td>I1 &amp; above</td>\n",
       "      <td>G</td>\n",
       "      <td>G</td>\n",
       "      <td>G-J</td>\n",
       "      <td>0.18-0.299</td>\n",
       "      <td>0.18</td>\n",
       "      <td>76.500</td>\n",
       "      <td>0.00</td>\n",
       "      <td>0.00</td>\n",
       "      <td>0.18 - 0.299</td>\n",
       "      <td>SI1 &amp; DOWN</td>\n",
       "      <td>USA</td>\n",
       "      <td>7650.0</td>\n",
       "    </tr>\n",
       "    <tr>\n",
       "      <th>1</th>\n",
       "      <td>Inhouse</td>\n",
       "      <td>Inside</td>\n",
       "      <td>I2</td>\n",
       "      <td>I2</td>\n",
       "      <td>I1 &amp; above</td>\n",
       "      <td>G</td>\n",
       "      <td>G</td>\n",
       "      <td>G-J</td>\n",
       "      <td>0.14-0.179</td>\n",
       "      <td>0.12</td>\n",
       "      <td>60.160</td>\n",
       "      <td>0.00</td>\n",
       "      <td>-0.02</td>\n",
       "      <td>0.14 - 0.179</td>\n",
       "      <td>SI1 &amp; DOWN</td>\n",
       "      <td>Belgium</td>\n",
       "      <td>4800.0</td>\n",
       "    </tr>\n",
       "    <tr>\n",
       "      <th>2</th>\n",
       "      <td>Inhouse</td>\n",
       "      <td>Inside</td>\n",
       "      <td>I2-</td>\n",
       "      <td>I2-</td>\n",
       "      <td>I1 &amp; above</td>\n",
       "      <td>G</td>\n",
       "      <td>H</td>\n",
       "      <td>G-J</td>\n",
       "      <td>0.14-0.179</td>\n",
       "      <td>0.13</td>\n",
       "      <td>49.500</td>\n",
       "      <td>-0.01</td>\n",
       "      <td>-0.01</td>\n",
       "      <td>0.14 - 0.179</td>\n",
       "      <td>SI1 &amp; DOWN</td>\n",
       "      <td>Belgium</td>\n",
       "      <td>5396.0</td>\n",
       "    </tr>\n",
       "    <tr>\n",
       "      <th>3</th>\n",
       "      <td>Inhouse</td>\n",
       "      <td>Inside</td>\n",
       "      <td>N2</td>\n",
       "      <td>N2</td>\n",
       "      <td>I1 &amp; above</td>\n",
       "      <td>I</td>\n",
       "      <td>I</td>\n",
       "      <td>G-J</td>\n",
       "      <td>0.3 &amp; up</td>\n",
       "      <td>0.46</td>\n",
       "      <td>627.750</td>\n",
       "      <td>-0.02</td>\n",
       "      <td>-0.02</td>\n",
       "      <td>0.3 &amp; Up</td>\n",
       "      <td>SI1 &amp; DOWN</td>\n",
       "      <td>UAE</td>\n",
       "      <td>66015.0</td>\n",
       "    </tr>\n",
       "    <tr>\n",
       "      <th>4</th>\n",
       "      <td>Diamcor Mining</td>\n",
       "      <td>Outside</td>\n",
       "      <td>VS2</td>\n",
       "      <td>VS1</td>\n",
       "      <td>VS1-VS2</td>\n",
       "      <td>G</td>\n",
       "      <td>H</td>\n",
       "      <td>G-J</td>\n",
       "      <td>0.019 &amp; below</td>\n",
       "      <td>0.00</td>\n",
       "      <td>2.725</td>\n",
       "      <td>0.00</td>\n",
       "      <td>0.00</td>\n",
       "      <td>0 - 0.019</td>\n",
       "      <td>IF TO VS2</td>\n",
       "      <td>Hong Kong</td>\n",
       "      <td>252.5</td>\n",
       "    </tr>\n",
       "  </tbody>\n",
       "</table>\n",
       "</div>"
      ],
      "text/plain": [
       "     Manager Name      I/O ASK Purity Final Purity Purity group ASK Color  \\\n",
       "0         Inhouse   Inside         N4           N4   I1 & above         G   \n",
       "1         Inhouse   Inside         I2           I2   I1 & above         G   \n",
       "2         Inhouse   Inside        I2-          I2-   I1 & above         G   \n",
       "3         Inhouse   Inside         N2           N2   I1 & above         I   \n",
       "4  Diamcor Mining  Outside        VS2          VS1      VS1-VS2         G   \n",
       "\n",
       "  Final Color Color Group     Size Group  Final Pointer  Final Value  \\\n",
       "0           G         G-J     0.18-0.299           0.18       76.500   \n",
       "1           G         G-J     0.14-0.179           0.12       60.160   \n",
       "2           H         G-J     0.14-0.179           0.13       49.500   \n",
       "3           I         G-J       0.3 & up           0.46      627.750   \n",
       "4           H         G-J  0.019 & below           0.00        2.725   \n",
       "\n",
       "   Pointer Diff  Ask P Diff      Ask Size    S Purity new_column  \\\n",
       "0          0.00        0.00  0.18 - 0.299  SI1 & DOWN        USA   \n",
       "1          0.00       -0.02  0.14 - 0.179  SI1 & DOWN    Belgium   \n",
       "2         -0.01       -0.01  0.14 - 0.179  SI1 & DOWN    Belgium   \n",
       "3         -0.02       -0.02      0.3 & Up  SI1 & DOWN        UAE   \n",
       "4          0.00        0.00     0 - 0.019   IF TO VS2  Hong Kong   \n",
       "\n",
       "   Diamond Price  \n",
       "0         7650.0  \n",
       "1         4800.0  \n",
       "2         5396.0  \n",
       "3        66015.0  \n",
       "4          252.5  "
      ]
     },
     "execution_count": 268,
     "metadata": {},
     "output_type": "execute_result"
    }
   ],
   "source": [
    "df2 = df1.copy()\n",
    "df2.head()"
   ]
  },
  {
   "cell_type": "code",
   "execution_count": 269,
   "metadata": {},
   "outputs": [],
   "source": [
    "TARGET = \"Diamond Price\"\n",
    "RANDOM_STATE = 123\n",
    "TEST_SIZE = 0.2\n",
    "\n",
    "# Split the data into features (x) and the target variable (y)\n",
    "x = df2.drop(columns=TARGET)\n",
    "y = df2[TARGET]\n",
    "\n",
    "# Split the data\n",
    "x_train, x_test, y_train, y_test = train_test_split( x, y, test_size=TEST_SIZE, random_state=RANDOM_STATE)\n"
   ]
  },
  {
   "cell_type": "code",
   "execution_count": 270,
   "metadata": {},
   "outputs": [
    {
     "data": {
      "text/plain": [
       "Index(['Manager Name', 'I/O', 'ASK Purity', 'Final Purity', 'Purity group',\n",
       "       'ASK Color', 'Final Color', 'Color Group', 'Size Group',\n",
       "       'Final Pointer', 'Final Value', 'Pointer Diff', 'Ask P Diff',\n",
       "       'Ask Size', 'S Purity', 'new_column', 'Diamond Price'],\n",
       "      dtype='object')"
      ]
     },
     "execution_count": 270,
     "metadata": {},
     "output_type": "execute_result"
    }
   ],
   "source": [
    "df2.columns"
   ]
  },
  {
   "cell_type": "code",
   "execution_count": 271,
   "metadata": {},
   "outputs": [
    {
     "data": {
      "text/plain": [
       "(array(['N4', 'I2', 'I2-', 'N2', 'VS2', 'VS1', 'VVS2', 'I1', 'SI2', 'I1-',\n",
       "        'SI3', 'N3', 'SI1', 'VVS1', 'I3', 'SI3-', 'N5', 'N6', 'I3-', 'I1 ',\n",
       "        'I4', 'I1 +', 'N7', 'I2+'], dtype=object),\n",
       " 24)"
      ]
     },
     "execution_count": 271,
     "metadata": {},
     "output_type": "execute_result"
    }
   ],
   "source": [
    "df2[\"ASK Purity\"].unique(), df2[\"ASK Purity\"].nunique()  ##OHE"
   ]
  },
  {
   "cell_type": "code",
   "execution_count": 272,
   "metadata": {},
   "outputs": [
    {
     "data": {
      "text/plain": [
       "(array(['N4', 'I2', 'I2-', 'N2', 'VS1', 'SI1', 'I1', 'VVS2', 'SI2', 'I1-',\n",
       "        'VS2', 'SI3', 'N3', 'N5', 'N6', 'VVS1', 'I3', 'I3-', 'I4', 'SI3-',\n",
       "        'N7', 'I5', 'I1 +', 'I2+'], dtype=object),\n",
       " 24)"
      ]
     },
     "execution_count": 272,
     "metadata": {},
     "output_type": "execute_result"
    }
   ],
   "source": [
    "df2[\"Final Purity\"].unique(), df2[\"Final Purity\"].nunique() #OHE"
   ]
  },
  {
   "cell_type": "code",
   "execution_count": 273,
   "metadata": {},
   "outputs": [
    {
     "data": {
      "text/plain": [
       "(array(['I1 & above', 'VS1-VS2', 'VVS1-VVS2', 'SI1-SI3'], dtype=object), 4)"
      ]
     },
     "execution_count": 273,
     "metadata": {},
     "output_type": "execute_result"
    }
   ],
   "source": [
    "df2[\"Purity group\"].unique(), df2[\"Purity group\"].nunique() #OHE"
   ]
  },
  {
   "cell_type": "code",
   "execution_count": 274,
   "metadata": {},
   "outputs": [
    {
     "data": {
      "text/plain": [
       "(array(['G', 'I', 'H', 'J', 'F', 'K', 'L', 'E', 'D', 'M', 'N', 'H-', 'G+',\n",
       "        'I-', 'H+', 'O', 'D-', 'E+', 'D+', 'I+', 'R'], dtype=object),\n",
       " 21)"
      ]
     },
     "execution_count": 274,
     "metadata": {},
     "output_type": "execute_result"
    }
   ],
   "source": [
    "df2[\"ASK Color\"].unique(), df2[\"ASK Color\"].nunique() #OHE"
   ]
  },
  {
   "cell_type": "code",
   "execution_count": 275,
   "metadata": {},
   "outputs": [
    {
     "data": {
      "text/plain": [
       "(array(['G', 'H', 'I', 'F', 'J', 'K', 'M', 'L', 'D', 'E', 'O', 'G+', 'N',\n",
       "        'D-', 'V', 'J+', 'R'], dtype=object),\n",
       " 17)"
      ]
     },
     "execution_count": 275,
     "metadata": {},
     "output_type": "execute_result"
    }
   ],
   "source": [
    "df2[\"Final Color\"].unique(), df2[\"Final Color\"].nunique() #OHE"
   ]
  },
  {
   "cell_type": "code",
   "execution_count": 276,
   "metadata": {},
   "outputs": [
    {
     "data": {
      "text/plain": [
       "(array(['G-J', 'D-F', 'K-M', 'N-R'], dtype=object),\n",
       " array(['0.18-0.299', '0.14-0.179', '0.3 & up', '0.019 & below',\n",
       "        '0.05-0.079', '0.02-0.049', '0.08-0.139'], dtype=object))"
      ]
     },
     "execution_count": 276,
     "metadata": {},
     "output_type": "execute_result"
    }
   ],
   "source": [
    "df2[\"Color Group\"].unique(), df2[\"Size Group\"].unique() #OHE"
   ]
  },
  {
   "cell_type": "code",
   "execution_count": 277,
   "metadata": {},
   "outputs": [
    {
     "data": {
      "text/plain": [
       "(array(['G-J', 'D-F', 'K-M', 'N-R'], dtype=object),\n",
       " array(['0.18-0.299', '0.14-0.179', '0.3 & up', '0.019 & below',\n",
       "        '0.05-0.079', '0.02-0.049', '0.08-0.139'], dtype=object))"
      ]
     },
     "execution_count": 277,
     "metadata": {},
     "output_type": "execute_result"
    }
   ],
   "source": [
    "\n",
    "df2[\"Color Group\"].unique(), df2[\"Size Group\"].unique() #OHE"
   ]
  },
  {
   "cell_type": "code",
   "execution_count": 278,
   "metadata": {},
   "outputs": [
    {
     "data": {
      "text/plain": [
       "(array([1.80e-01, 1.20e-01, 1.30e-01, 4.60e-01, 0.00e+00, 1.00e-02,\n",
       "        1.60e-01, 4.00e-02, 3.00e-02, 2.30e-01, 1.40e-01, 1.90e-01,\n",
       "        5.00e-02, 9.00e-02, 2.10e-01, 7.00e-02, 6.00e-02, 2.00e-02,\n",
       "        2.50e-01, 2.70e-01, 1.50e-01, 1.00e-01, 2.00e-01, 1.10e-01,\n",
       "        8.00e-02, 2.60e-01, 2.40e-01, 2.80e-01, 3.00e-01, 2.20e-01,\n",
       "        1.70e-01, 2.90e-01, 3.10e-01, 5.00e-01, 3.20e-01, 4.20e-01,\n",
       "        3.80e-01, 5.20e-01, 3.90e-01, 3.70e-01, 5.10e-01, 5.30e-01,\n",
       "        7.60e-01, 4.90e-01, 4.30e-01, 3.60e-01, 4.10e-01, 4.40e-01,\n",
       "        3.40e-01, 4.00e-01, 5.40e-01, 7.20e-01, 5.50e-01, 4.70e-01,\n",
       "        5.70e-01, 3.30e-01, 4.80e-01, 5.60e-01, 3.50e-01, 7.30e-01,\n",
       "        7.00e-01, 6.20e-01, 7.50e-01, 7.10e-01, 6.30e-01, 8.00e-01,\n",
       "        6.00e-01, 8.20e-01, 4.50e-01, 6.50e-01, 6.40e-01, 7.40e-01,\n",
       "        9.30e-01, 5.80e-01, 6.10e-01, 6.60e-01, 8.90e-01, 6.70e-01,\n",
       "        8.10e-01, 7.70e-01, 5.90e-01, 1.02e+00, 1.00e+00, 1.21e+00,\n",
       "        6.80e-01, 8.30e-01, 9.40e-01, 9.20e-01, 1.10e+00, 1.16e+00,\n",
       "        9.00e-01, 9.10e-01, 8.40e-01, 1.03e+00, 1.11e+00, 8.50e-01,\n",
       "        1.06e+00, 1.07e+00, 7.80e-01, 1.01e+00, 1.00e-03, 2.10e-02,\n",
       "        1.05e+00, 6.90e-01, 1.04e+00, 1.08e+00, 9.70e-01]),\n",
       " 107)"
      ]
     },
     "execution_count": 278,
     "metadata": {},
     "output_type": "execute_result"
    }
   ],
   "source": [
    "df2[\"Final Pointer\"].unique(), df2[\"Final Pointer\"].nunique() "
   ]
  },
  {
   "cell_type": "code",
   "execution_count": 279,
   "metadata": {},
   "outputs": [
    {
     "data": {
      "text/plain": [
       "(array([ 76.5  ,  60.16 ,  49.5  , ...,  14.835, 143.325,   6.64 ]), 11946)"
      ]
     },
     "execution_count": 279,
     "metadata": {},
     "output_type": "execute_result"
    }
   ],
   "source": [
    "df2[\"Final Value\"].unique(), df2[\"Final Value\"].nunique() # discretize"
   ]
  },
  {
   "cell_type": "code",
   "execution_count": 280,
   "metadata": {},
   "outputs": [
    {
     "data": {
      "text/plain": [
       "(array([ 0.0000000e+00, -1.0000000e-02, -2.0000000e-02,  1.0000000e-02,\n",
       "         1.0000000e-02, -1.0000000e-02,  2.0000000e-02, -2.0000000e-02,\n",
       "         2.0000000e-02, -1.1000000e-01, -2.0000000e-01, -3.0000000e-02,\n",
       "        -3.2699992e-03,  3.0000000e-02, -6.0000000e-02, -8.0000000e-02,\n",
       "         4.0000000e-02, -9.0000000e-02,  3.0000000e-02,  4.0000000e-02,\n",
       "        -4.0000000e-02, -7.0000000e-02,  5.0000000e-02,  1.0000000e-01,\n",
       "         6.0000000e-02,  5.0000000e-02,  1.4000000e-01,  8.0000000e-02,\n",
       "         1.1000000e-01, -1.9000000e-01, -1.0000000e-01, -1.6000000e-01,\n",
       "        -2.7000000e-01, -3.0000000e-02, -5.0000000e-02,  1.0000000e-02,\n",
       "        -1.1000000e-01, -1.0000000e-02,  6.0000000e-02, -9.0000000e-02,\n",
       "        -1.4000000e-01, -4.9000000e-01,  6.0000000e-02, -2.9000000e-01,\n",
       "        -4.0000000e-02, -5.0000000e-02,  1.1000000e-01, -3.1000000e-01,\n",
       "        -4.5000000e-01,  1.2000000e-01, -7.0000000e-02, -2.4000000e-01,\n",
       "         7.0000000e-02,  8.0000000e-02, -1.3000000e-01,  1.7000000e-01,\n",
       "         1.5000000e-01,  2.4000000e-01,  2.3000000e-01,  2.6000000e-01,\n",
       "         2.9000000e-01,  3.0000000e-01,  2.5000000e-01,  9.0000000e-02,\n",
       "         1.6000000e-01,  1.8000000e-01,  2.8000000e-01,  1.9000000e-01,\n",
       "        -8.0000000e-02, -1.0000000e-01,  1.3000000e-01, -1.4000000e-01,\n",
       "        -2.5000000e-01, -1.9000000e-02, -9.0000000e-03, -9.0000000e-03,\n",
       "         1.0000000e-03,  1.1000000e-02, -2.9000000e-02, -1.2000000e-01,\n",
       "        -1.7000000e-01,  1.0000000e-01, -1.5000000e-01,  7.0000000e-02,\n",
       "         6.7000000e-01, -6.0000000e-02, -3.0000000e-01, -6.9000000e-01,\n",
       "        -2.2000000e-01, -1.8500000e+00]),\n",
       " 90)"
      ]
     },
     "execution_count": 280,
     "metadata": {},
     "output_type": "execute_result"
    }
   ],
   "source": [
    "df2[\"Pointer Diff\"].unique(), df2[\"Pointer Diff\"].nunique() "
   ]
  },
  {
   "cell_type": "code",
   "execution_count": 281,
   "metadata": {},
   "outputs": [
    {
     "data": {
      "text/plain": [
       "(array([ 0.       , -0.02     , -0.01     , -0.02     , -0.01     ,\n",
       "         0.01     ,  0.01     ,  0.02     ,  0.02     , -0.11     ,\n",
       "        -0.2      , -0.03     , -0.0041288,  0.05     ,  0.03     ,\n",
       "         0.09     , -0.04     , -0.05     , -0.06     , -0.08     ,\n",
       "         0.04     , -0.09     ,  0.03     ,  0.04     , -0.05     ,\n",
       "        -0.07     ,  0.05     ,  0.06     ,  0.07     , -0.19     ,\n",
       "        -0.1      , -0.16     , -0.04     , -0.03     ,  0.01     ,\n",
       "         0.08     ,  0.08     , -0.11     , -0.07     , -0.88     ,\n",
       "        -0.27     , -0.01     ,  0.1      ,  0.06     , -0.09     ,\n",
       "        -0.14     , -0.49     ,  0.06     , -0.29     , -0.08     ,\n",
       "         0.1      , -0.1      ,  0.11     , -0.31     , -0.45     ,\n",
       "         0.12     , -0.24     , -0.13     , -0.12     ,  0.13     ,\n",
       "        -0.14     , -0.25     , -0.009    , -0.029    , -0.019    ,\n",
       "        -0.21     , -0.17     , -0.15     ,  0.07     ,  0.67     ,\n",
       "        -0.06     ,  0.26     , -0.3      ,  0.18     , -0.22     ]),\n",
       " 75)"
      ]
     },
     "execution_count": 281,
     "metadata": {},
     "output_type": "execute_result"
    }
   ],
   "source": [
    "df2[\"Ask P Diff\"].unique(), df2[\"Ask P Diff\"].nunique() "
   ]
  },
  {
   "cell_type": "code",
   "execution_count": 282,
   "metadata": {},
   "outputs": [
    {
     "data": {
      "text/plain": [
       "(array(['0.18 - 0.299', '0.14 - 0.179', '0.3 & Up', '0 - 0.019',\n",
       "        '0.05 - 0.079', '0.02 - 0.049', '0.08 - 0.139'], dtype=object),\n",
       " 7)"
      ]
     },
     "execution_count": 282,
     "metadata": {},
     "output_type": "execute_result"
    }
   ],
   "source": [
    "df2[\"Ask Size\"].unique(), df2[\"Ask Size\"].nunique() "
   ]
  },
  {
   "cell_type": "code",
   "execution_count": 283,
   "metadata": {},
   "outputs": [
    {
     "data": {
      "text/plain": [
       "(array(['SI1 & DOWN', 'IF TO VS2', '0'], dtype=object), 3)"
      ]
     },
     "execution_count": 283,
     "metadata": {},
     "output_type": "execute_result"
    }
   ],
   "source": [
    "df2[\"S Purity\"].unique(), df2[\"S Purity\"].nunique() #OHE"
   ]
  },
  {
   "cell_type": "code",
   "execution_count": 284,
   "metadata": {},
   "outputs": [
    {
     "data": {
      "text/plain": [
       "(array(['USA', 'Belgium', 'UAE', 'Hong Kong', 'Japan', 'Australia',\n",
       "        'India'], dtype=object),\n",
       " 7)"
      ]
     },
     "execution_count": 284,
     "metadata": {},
     "output_type": "execute_result"
    }
   ],
   "source": [
    "df2[\"new_column\"].unique(), df2[\"new_column\"].nunique() #OHE"
   ]
  },
  {
   "cell_type": "code",
   "execution_count": 285,
   "metadata": {},
   "outputs": [],
   "source": [
    "columns_to_dicretize = [\"Final Value\"]\n",
    "columns_to_encode = ['Manager Name', 'I/O', 'ASK Purity', 'Final Purity', 'Purity group', 'ASK Color', 'Final Color', 'Color Group',\n",
    "                     'Size Group', 'Ask Size', 'S Purity', 'new_column'] "
   ]
  },
  {
   "cell_type": "code",
   "execution_count": 286,
   "metadata": {},
   "outputs": [
    {
     "data": {
      "text/html": [
       "<style>#sk-container-id-14 {color: black;background-color: white;}#sk-container-id-14 pre{padding: 0;}#sk-container-id-14 div.sk-toggleable {background-color: white;}#sk-container-id-14 label.sk-toggleable__label {cursor: pointer;display: block;width: 100%;margin-bottom: 0;padding: 0.3em;box-sizing: border-box;text-align: center;}#sk-container-id-14 label.sk-toggleable__label-arrow:before {content: \"▸\";float: left;margin-right: 0.25em;color: #696969;}#sk-container-id-14 label.sk-toggleable__label-arrow:hover:before {color: black;}#sk-container-id-14 div.sk-estimator:hover label.sk-toggleable__label-arrow:before {color: black;}#sk-container-id-14 div.sk-toggleable__content {max-height: 0;max-width: 0;overflow: hidden;text-align: left;background-color: #f0f8ff;}#sk-container-id-14 div.sk-toggleable__content pre {margin: 0.2em;color: black;border-radius: 0.25em;background-color: #f0f8ff;}#sk-container-id-14 input.sk-toggleable__control:checked~div.sk-toggleable__content {max-height: 200px;max-width: 100%;overflow: auto;}#sk-container-id-14 input.sk-toggleable__control:checked~label.sk-toggleable__label-arrow:before {content: \"▾\";}#sk-container-id-14 div.sk-estimator input.sk-toggleable__control:checked~label.sk-toggleable__label {background-color: #d4ebff;}#sk-container-id-14 div.sk-label input.sk-toggleable__control:checked~label.sk-toggleable__label {background-color: #d4ebff;}#sk-container-id-14 input.sk-hidden--visually {border: 0;clip: rect(1px 1px 1px 1px);clip: rect(1px, 1px, 1px, 1px);height: 1px;margin: -1px;overflow: hidden;padding: 0;position: absolute;width: 1px;}#sk-container-id-14 div.sk-estimator {font-family: monospace;background-color: #f0f8ff;border: 1px dotted black;border-radius: 0.25em;box-sizing: border-box;margin-bottom: 0.5em;}#sk-container-id-14 div.sk-estimator:hover {background-color: #d4ebff;}#sk-container-id-14 div.sk-parallel-item::after {content: \"\";width: 100%;border-bottom: 1px solid gray;flex-grow: 1;}#sk-container-id-14 div.sk-label:hover label.sk-toggleable__label {background-color: #d4ebff;}#sk-container-id-14 div.sk-serial::before {content: \"\";position: absolute;border-left: 1px solid gray;box-sizing: border-box;top: 0;bottom: 0;left: 50%;z-index: 0;}#sk-container-id-14 div.sk-serial {display: flex;flex-direction: column;align-items: center;background-color: white;padding-right: 0.2em;padding-left: 0.2em;position: relative;}#sk-container-id-14 div.sk-item {position: relative;z-index: 1;}#sk-container-id-14 div.sk-parallel {display: flex;align-items: stretch;justify-content: center;background-color: white;position: relative;}#sk-container-id-14 div.sk-item::before, #sk-container-id-14 div.sk-parallel-item::before {content: \"\";position: absolute;border-left: 1px solid gray;box-sizing: border-box;top: 0;bottom: 0;left: 50%;z-index: -1;}#sk-container-id-14 div.sk-parallel-item {display: flex;flex-direction: column;z-index: 1;position: relative;background-color: white;}#sk-container-id-14 div.sk-parallel-item:first-child::after {align-self: flex-end;width: 50%;}#sk-container-id-14 div.sk-parallel-item:last-child::after {align-self: flex-start;width: 50%;}#sk-container-id-14 div.sk-parallel-item:only-child::after {width: 0;}#sk-container-id-14 div.sk-dashed-wrapped {border: 1px dashed gray;margin: 0 0.4em 0.5em 0.4em;box-sizing: border-box;padding-bottom: 0.4em;background-color: white;}#sk-container-id-14 div.sk-label label {font-family: monospace;font-weight: bold;display: inline-block;line-height: 1.2em;}#sk-container-id-14 div.sk-label-container {text-align: center;}#sk-container-id-14 div.sk-container {/* jupyter's `normalize.less` sets `[hidden] { display: none; }` but bootstrap.min.css set `[hidden] { display: none !important; }` so we also need the `!important` here to be able to override the default hidden behavior on the sphinx rendered scikit-learn.org. See: https://github.com/scikit-learn/scikit-learn/issues/21755 */display: inline-block !important;position: relative;}#sk-container-id-14 div.sk-text-repr-fallback {display: none;}</style><div id=\"sk-container-id-14\" class=\"sk-top-container\"><div class=\"sk-text-repr-fallback\"><pre>Pipeline(steps=[(&#x27;discretizer&#x27;,\n",
       "                 EqualFrequencyDiscretiser(variables=[&#x27;Final Value&#x27;])),\n",
       "                (&#x27;OneHotEncoder&#x27;,\n",
       "                 OneHotEncoder(drop_last=True,\n",
       "                               variables=[&#x27;Manager Name&#x27;, &#x27;I/O&#x27;, &#x27;ASK Purity&#x27;,\n",
       "                                          &#x27;Final Purity&#x27;, &#x27;Purity group&#x27;,\n",
       "                                          &#x27;ASK Color&#x27;, &#x27;Final Color&#x27;,\n",
       "                                          &#x27;Color Group&#x27;, &#x27;Size Group&#x27;,\n",
       "                                          &#x27;Ask Size&#x27;, &#x27;S Purity&#x27;,\n",
       "                                          &#x27;new_column&#x27;])),\n",
       "                (&#x27;scaler&#x27;, StandardScaler())])</pre><b>In a Jupyter environment, please rerun this cell to show the HTML representation or trust the notebook. <br />On GitHub, the HTML representation is unable to render, please try loading this page with nbviewer.org.</b></div><div class=\"sk-container\" hidden><div class=\"sk-item sk-dashed-wrapped\"><div class=\"sk-label-container\"><div class=\"sk-label sk-toggleable\"><input class=\"sk-toggleable__control sk-hidden--visually\" id=\"sk-estimator-id-61\" type=\"checkbox\" ><label for=\"sk-estimator-id-61\" class=\"sk-toggleable__label sk-toggleable__label-arrow\">Pipeline</label><div class=\"sk-toggleable__content\"><pre>Pipeline(steps=[(&#x27;discretizer&#x27;,\n",
       "                 EqualFrequencyDiscretiser(variables=[&#x27;Final Value&#x27;])),\n",
       "                (&#x27;OneHotEncoder&#x27;,\n",
       "                 OneHotEncoder(drop_last=True,\n",
       "                               variables=[&#x27;Manager Name&#x27;, &#x27;I/O&#x27;, &#x27;ASK Purity&#x27;,\n",
       "                                          &#x27;Final Purity&#x27;, &#x27;Purity group&#x27;,\n",
       "                                          &#x27;ASK Color&#x27;, &#x27;Final Color&#x27;,\n",
       "                                          &#x27;Color Group&#x27;, &#x27;Size Group&#x27;,\n",
       "                                          &#x27;Ask Size&#x27;, &#x27;S Purity&#x27;,\n",
       "                                          &#x27;new_column&#x27;])),\n",
       "                (&#x27;scaler&#x27;, StandardScaler())])</pre></div></div></div><div class=\"sk-serial\"><div class=\"sk-item\"><div class=\"sk-estimator sk-toggleable\"><input class=\"sk-toggleable__control sk-hidden--visually\" id=\"sk-estimator-id-62\" type=\"checkbox\" ><label for=\"sk-estimator-id-62\" class=\"sk-toggleable__label sk-toggleable__label-arrow\">EqualFrequencyDiscretiser</label><div class=\"sk-toggleable__content\"><pre>EqualFrequencyDiscretiser(variables=[&#x27;Final Value&#x27;])</pre></div></div></div><div class=\"sk-item\"><div class=\"sk-estimator sk-toggleable\"><input class=\"sk-toggleable__control sk-hidden--visually\" id=\"sk-estimator-id-63\" type=\"checkbox\" ><label for=\"sk-estimator-id-63\" class=\"sk-toggleable__label sk-toggleable__label-arrow\">OneHotEncoder</label><div class=\"sk-toggleable__content\"><pre>OneHotEncoder(drop_last=True,\n",
       "              variables=[&#x27;Manager Name&#x27;, &#x27;I/O&#x27;, &#x27;ASK Purity&#x27;, &#x27;Final Purity&#x27;,\n",
       "                         &#x27;Purity group&#x27;, &#x27;ASK Color&#x27;, &#x27;Final Color&#x27;,\n",
       "                         &#x27;Color Group&#x27;, &#x27;Size Group&#x27;, &#x27;Ask Size&#x27;, &#x27;S Purity&#x27;,\n",
       "                         &#x27;new_column&#x27;])</pre></div></div></div><div class=\"sk-item\"><div class=\"sk-estimator sk-toggleable\"><input class=\"sk-toggleable__control sk-hidden--visually\" id=\"sk-estimator-id-64\" type=\"checkbox\" ><label for=\"sk-estimator-id-64\" class=\"sk-toggleable__label sk-toggleable__label-arrow\">StandardScaler</label><div class=\"sk-toggleable__content\"><pre>StandardScaler()</pre></div></div></div></div></div></div></div>"
      ],
      "text/plain": [
       "Pipeline(steps=[('discretizer',\n",
       "                 EqualFrequencyDiscretiser(variables=['Final Value'])),\n",
       "                ('OneHotEncoder',\n",
       "                 OneHotEncoder(drop_last=True,\n",
       "                               variables=['Manager Name', 'I/O', 'ASK Purity',\n",
       "                                          'Final Purity', 'Purity group',\n",
       "                                          'ASK Color', 'Final Color',\n",
       "                                          'Color Group', 'Size Group',\n",
       "                                          'Ask Size', 'S Purity',\n",
       "                                          'new_column'])),\n",
       "                ('scaler', StandardScaler())])"
      ]
     },
     "execution_count": 286,
     "metadata": {},
     "output_type": "execute_result"
    }
   ],
   "source": [
    "feat_eng_pipe = Pipeline(\n",
    "    steps=[\n",
    " \n",
    "        # ========== DISCRETIZE NUMERICAL VARIABLES ==========\n",
    "        (\n",
    "            \"discretizer\",\n",
    "            EqualFrequencyDiscretiser(\n",
    "                variables=columns_to_dicretize,\n",
    "                q=10,\n",
    "            ),\n",
    "        ),\n",
    "\n",
    "        # ========== ENCODE CATEGORICAL VARIABLES ==========\n",
    "        (\n",
    "            \"OneHotEncoder\",\n",
    "            OneHotEncoder(top_categories=None, drop_last=True,  \n",
    "            variables=columns_to_encode, ignore_format=False),\n",
    "        ),\n",
    "        # ========== SCALE NUMERICAL VARIABLES ==========\n",
    "        (\n",
    "            \"scaler\",\n",
    "            StandardScaler()\n",
    "        ),\n",
    "    ],\n",
    ")\n",
    "\n",
    "feat_eng_pipe"
   ]
  },
  {
   "cell_type": "code",
   "execution_count": 287,
   "metadata": {},
   "outputs": [],
   "source": [
    "# Train the pipeline\n",
    "features = feat_eng_pipe.fit(x_train, y_train)"
   ]
  },
  {
   "cell_type": "markdown",
   "metadata": {},
   "source": [
    "# MODEL BUILDING"
   ]
  },
  {
   "cell_type": "code",
   "execution_count": 288,
   "metadata": {},
   "outputs": [],
   "source": [
    "from sklearn.linear_model import LinearRegression\n",
    "from sklearn import metrics\n",
    "from sklearn.linear_model import Ridge\n",
    "from sklearn.linear_model import Lasso\n",
    "from sklearn.linear_model import ElasticNet\n",
    "from sklearn.ensemble import RandomForestRegressor"
   ]
  },
  {
   "cell_type": "markdown",
   "metadata": {},
   "source": [
    "### LINEAR REGRESSION MODEL"
   ]
  },
  {
   "cell_type": "code",
   "execution_count": 289,
   "metadata": {},
   "outputs": [
    {
     "data": {
      "text/html": [
       "<style>#sk-container-id-15 {color: black;background-color: white;}#sk-container-id-15 pre{padding: 0;}#sk-container-id-15 div.sk-toggleable {background-color: white;}#sk-container-id-15 label.sk-toggleable__label {cursor: pointer;display: block;width: 100%;margin-bottom: 0;padding: 0.3em;box-sizing: border-box;text-align: center;}#sk-container-id-15 label.sk-toggleable__label-arrow:before {content: \"▸\";float: left;margin-right: 0.25em;color: #696969;}#sk-container-id-15 label.sk-toggleable__label-arrow:hover:before {color: black;}#sk-container-id-15 div.sk-estimator:hover label.sk-toggleable__label-arrow:before {color: black;}#sk-container-id-15 div.sk-toggleable__content {max-height: 0;max-width: 0;overflow: hidden;text-align: left;background-color: #f0f8ff;}#sk-container-id-15 div.sk-toggleable__content pre {margin: 0.2em;color: black;border-radius: 0.25em;background-color: #f0f8ff;}#sk-container-id-15 input.sk-toggleable__control:checked~div.sk-toggleable__content {max-height: 200px;max-width: 100%;overflow: auto;}#sk-container-id-15 input.sk-toggleable__control:checked~label.sk-toggleable__label-arrow:before {content: \"▾\";}#sk-container-id-15 div.sk-estimator input.sk-toggleable__control:checked~label.sk-toggleable__label {background-color: #d4ebff;}#sk-container-id-15 div.sk-label input.sk-toggleable__control:checked~label.sk-toggleable__label {background-color: #d4ebff;}#sk-container-id-15 input.sk-hidden--visually {border: 0;clip: rect(1px 1px 1px 1px);clip: rect(1px, 1px, 1px, 1px);height: 1px;margin: -1px;overflow: hidden;padding: 0;position: absolute;width: 1px;}#sk-container-id-15 div.sk-estimator {font-family: monospace;background-color: #f0f8ff;border: 1px dotted black;border-radius: 0.25em;box-sizing: border-box;margin-bottom: 0.5em;}#sk-container-id-15 div.sk-estimator:hover {background-color: #d4ebff;}#sk-container-id-15 div.sk-parallel-item::after {content: \"\";width: 100%;border-bottom: 1px solid gray;flex-grow: 1;}#sk-container-id-15 div.sk-label:hover label.sk-toggleable__label {background-color: #d4ebff;}#sk-container-id-15 div.sk-serial::before {content: \"\";position: absolute;border-left: 1px solid gray;box-sizing: border-box;top: 0;bottom: 0;left: 50%;z-index: 0;}#sk-container-id-15 div.sk-serial {display: flex;flex-direction: column;align-items: center;background-color: white;padding-right: 0.2em;padding-left: 0.2em;position: relative;}#sk-container-id-15 div.sk-item {position: relative;z-index: 1;}#sk-container-id-15 div.sk-parallel {display: flex;align-items: stretch;justify-content: center;background-color: white;position: relative;}#sk-container-id-15 div.sk-item::before, #sk-container-id-15 div.sk-parallel-item::before {content: \"\";position: absolute;border-left: 1px solid gray;box-sizing: border-box;top: 0;bottom: 0;left: 50%;z-index: -1;}#sk-container-id-15 div.sk-parallel-item {display: flex;flex-direction: column;z-index: 1;position: relative;background-color: white;}#sk-container-id-15 div.sk-parallel-item:first-child::after {align-self: flex-end;width: 50%;}#sk-container-id-15 div.sk-parallel-item:last-child::after {align-self: flex-start;width: 50%;}#sk-container-id-15 div.sk-parallel-item:only-child::after {width: 0;}#sk-container-id-15 div.sk-dashed-wrapped {border: 1px dashed gray;margin: 0 0.4em 0.5em 0.4em;box-sizing: border-box;padding-bottom: 0.4em;background-color: white;}#sk-container-id-15 div.sk-label label {font-family: monospace;font-weight: bold;display: inline-block;line-height: 1.2em;}#sk-container-id-15 div.sk-label-container {text-align: center;}#sk-container-id-15 div.sk-container {/* jupyter's `normalize.less` sets `[hidden] { display: none; }` but bootstrap.min.css set `[hidden] { display: none !important; }` so we also need the `!important` here to be able to override the default hidden behavior on the sphinx rendered scikit-learn.org. See: https://github.com/scikit-learn/scikit-learn/issues/21755 */display: inline-block !important;position: relative;}#sk-container-id-15 div.sk-text-repr-fallback {display: none;}</style><div id=\"sk-container-id-15\" class=\"sk-top-container\"><div class=\"sk-text-repr-fallback\"><pre>Pipeline(steps=[(&#x27;feat_eng_pipe&#x27;,\n",
       "                 Pipeline(steps=[(&#x27;discretizer&#x27;,\n",
       "                                  EqualFrequencyDiscretiser(variables=[&#x27;Final &#x27;\n",
       "                                                                       &#x27;Value&#x27;])),\n",
       "                                 (&#x27;OneHotEncoder&#x27;,\n",
       "                                  OneHotEncoder(drop_last=True,\n",
       "                                                variables=[&#x27;Manager Name&#x27;,\n",
       "                                                           &#x27;I/O&#x27;, &#x27;ASK Purity&#x27;,\n",
       "                                                           &#x27;Final Purity&#x27;,\n",
       "                                                           &#x27;Purity group&#x27;,\n",
       "                                                           &#x27;ASK Color&#x27;,\n",
       "                                                           &#x27;Final Color&#x27;,\n",
       "                                                           &#x27;Color Group&#x27;,\n",
       "                                                           &#x27;Size Group&#x27;,\n",
       "                                                           &#x27;Ask Size&#x27;,\n",
       "                                                           &#x27;S Purity&#x27;,\n",
       "                                                           &#x27;new_column&#x27;])),\n",
       "                                 (&#x27;scaler&#x27;, StandardScaler())])),\n",
       "                (&#x27;LinearRegression&#x27;, LinearRegression())])</pre><b>In a Jupyter environment, please rerun this cell to show the HTML representation or trust the notebook. <br />On GitHub, the HTML representation is unable to render, please try loading this page with nbviewer.org.</b></div><div class=\"sk-container\" hidden><div class=\"sk-item sk-dashed-wrapped\"><div class=\"sk-label-container\"><div class=\"sk-label sk-toggleable\"><input class=\"sk-toggleable__control sk-hidden--visually\" id=\"sk-estimator-id-65\" type=\"checkbox\" ><label for=\"sk-estimator-id-65\" class=\"sk-toggleable__label sk-toggleable__label-arrow\">Pipeline</label><div class=\"sk-toggleable__content\"><pre>Pipeline(steps=[(&#x27;feat_eng_pipe&#x27;,\n",
       "                 Pipeline(steps=[(&#x27;discretizer&#x27;,\n",
       "                                  EqualFrequencyDiscretiser(variables=[&#x27;Final &#x27;\n",
       "                                                                       &#x27;Value&#x27;])),\n",
       "                                 (&#x27;OneHotEncoder&#x27;,\n",
       "                                  OneHotEncoder(drop_last=True,\n",
       "                                                variables=[&#x27;Manager Name&#x27;,\n",
       "                                                           &#x27;I/O&#x27;, &#x27;ASK Purity&#x27;,\n",
       "                                                           &#x27;Final Purity&#x27;,\n",
       "                                                           &#x27;Purity group&#x27;,\n",
       "                                                           &#x27;ASK Color&#x27;,\n",
       "                                                           &#x27;Final Color&#x27;,\n",
       "                                                           &#x27;Color Group&#x27;,\n",
       "                                                           &#x27;Size Group&#x27;,\n",
       "                                                           &#x27;Ask Size&#x27;,\n",
       "                                                           &#x27;S Purity&#x27;,\n",
       "                                                           &#x27;new_column&#x27;])),\n",
       "                                 (&#x27;scaler&#x27;, StandardScaler())])),\n",
       "                (&#x27;LinearRegression&#x27;, LinearRegression())])</pre></div></div></div><div class=\"sk-serial\"><div class=\"sk-item\"><div class=\"sk-label-container\"><div class=\"sk-label sk-toggleable\"><input class=\"sk-toggleable__control sk-hidden--visually\" id=\"sk-estimator-id-66\" type=\"checkbox\" ><label for=\"sk-estimator-id-66\" class=\"sk-toggleable__label sk-toggleable__label-arrow\">feat_eng_pipe: Pipeline</label><div class=\"sk-toggleable__content\"><pre>Pipeline(steps=[(&#x27;discretizer&#x27;,\n",
       "                 EqualFrequencyDiscretiser(variables=[&#x27;Final Value&#x27;])),\n",
       "                (&#x27;OneHotEncoder&#x27;,\n",
       "                 OneHotEncoder(drop_last=True,\n",
       "                               variables=[&#x27;Manager Name&#x27;, &#x27;I/O&#x27;, &#x27;ASK Purity&#x27;,\n",
       "                                          &#x27;Final Purity&#x27;, &#x27;Purity group&#x27;,\n",
       "                                          &#x27;ASK Color&#x27;, &#x27;Final Color&#x27;,\n",
       "                                          &#x27;Color Group&#x27;, &#x27;Size Group&#x27;,\n",
       "                                          &#x27;Ask Size&#x27;, &#x27;S Purity&#x27;,\n",
       "                                          &#x27;new_column&#x27;])),\n",
       "                (&#x27;scaler&#x27;, StandardScaler())])</pre></div></div></div><div class=\"sk-serial\"><div class=\"sk-item\"><div class=\"sk-estimator sk-toggleable\"><input class=\"sk-toggleable__control sk-hidden--visually\" id=\"sk-estimator-id-67\" type=\"checkbox\" ><label for=\"sk-estimator-id-67\" class=\"sk-toggleable__label sk-toggleable__label-arrow\">EqualFrequencyDiscretiser</label><div class=\"sk-toggleable__content\"><pre>EqualFrequencyDiscretiser(variables=[&#x27;Final Value&#x27;])</pre></div></div></div><div class=\"sk-item\"><div class=\"sk-estimator sk-toggleable\"><input class=\"sk-toggleable__control sk-hidden--visually\" id=\"sk-estimator-id-68\" type=\"checkbox\" ><label for=\"sk-estimator-id-68\" class=\"sk-toggleable__label sk-toggleable__label-arrow\">OneHotEncoder</label><div class=\"sk-toggleable__content\"><pre>OneHotEncoder(drop_last=True,\n",
       "              variables=[&#x27;Manager Name&#x27;, &#x27;I/O&#x27;, &#x27;ASK Purity&#x27;, &#x27;Final Purity&#x27;,\n",
       "                         &#x27;Purity group&#x27;, &#x27;ASK Color&#x27;, &#x27;Final Color&#x27;,\n",
       "                         &#x27;Color Group&#x27;, &#x27;Size Group&#x27;, &#x27;Ask Size&#x27;, &#x27;S Purity&#x27;,\n",
       "                         &#x27;new_column&#x27;])</pre></div></div></div><div class=\"sk-item\"><div class=\"sk-estimator sk-toggleable\"><input class=\"sk-toggleable__control sk-hidden--visually\" id=\"sk-estimator-id-69\" type=\"checkbox\" ><label for=\"sk-estimator-id-69\" class=\"sk-toggleable__label sk-toggleable__label-arrow\">StandardScaler</label><div class=\"sk-toggleable__content\"><pre>StandardScaler()</pre></div></div></div></div></div><div class=\"sk-item\"><div class=\"sk-estimator sk-toggleable\"><input class=\"sk-toggleable__control sk-hidden--visually\" id=\"sk-estimator-id-70\" type=\"checkbox\" ><label for=\"sk-estimator-id-70\" class=\"sk-toggleable__label sk-toggleable__label-arrow\">LinearRegression</label><div class=\"sk-toggleable__content\"><pre>LinearRegression()</pre></div></div></div></div></div></div></div>"
      ],
      "text/plain": [
       "Pipeline(steps=[('feat_eng_pipe',\n",
       "                 Pipeline(steps=[('discretizer',\n",
       "                                  EqualFrequencyDiscretiser(variables=['Final '\n",
       "                                                                       'Value'])),\n",
       "                                 ('OneHotEncoder',\n",
       "                                  OneHotEncoder(drop_last=True,\n",
       "                                                variables=['Manager Name',\n",
       "                                                           'I/O', 'ASK Purity',\n",
       "                                                           'Final Purity',\n",
       "                                                           'Purity group',\n",
       "                                                           'ASK Color',\n",
       "                                                           'Final Color',\n",
       "                                                           'Color Group',\n",
       "                                                           'Size Group',\n",
       "                                                           'Ask Size',\n",
       "                                                           'S Purity',\n",
       "                                                           'new_column'])),\n",
       "                                 ('scaler', StandardScaler())])),\n",
       "                ('LinearRegression', LinearRegression())])"
      ]
     },
     "execution_count": 289,
     "metadata": {},
     "output_type": "execute_result"
    }
   ],
   "source": [
    "#initialize LinearRegression\n",
    "LR = LinearRegression()\n",
    "\n",
    "pipe_LinearRegression = Pipeline(\n",
    "    steps=[\n",
    "        # ===== feat_eng_pipe =====\n",
    "        (\"feat_eng_pipe\", feat_eng_pipe),\n",
    "        # ===== xgboostmodel Model =====\n",
    "        (\"LinearRegression\", LR),\n",
    "    ]\n",
    ")\n",
    "\n",
    "pipe_LinearRegression"
   ]
  },
  {
   "cell_type": "code",
   "execution_count": 290,
   "metadata": {},
   "outputs": [],
   "source": [
    "from warnings import simplefilter\n",
    "simplefilter(action=\"ignore\", category=pd.errors.PerformanceWarning)"
   ]
  },
  {
   "cell_type": "code",
   "execution_count": 291,
   "metadata": {},
   "outputs": [
    {
     "data": {
      "text/plain": [
       "array([ 1352.98847977, -1463.25585923,  4659.48876968, ...,\n",
       "        1936.40092852,  9798.86615367,  -517.16461256])"
      ]
     },
     "execution_count": 291,
     "metadata": {},
     "output_type": "execute_result"
    }
   ],
   "source": [
    "# Fit\n",
    "pipe_LinearRegression.fit(x_train, y_train)\n",
    "\n",
    "# Make predictions\n",
    "y_pred_1 = pipe_LinearRegression.predict(x_test)\n",
    "y_pred_1"
   ]
  },
  {
   "cell_type": "code",
   "execution_count": 292,
   "metadata": {},
   "outputs": [
    {
     "name": "stdout",
     "output_type": "stream",
     "text": [
      "R squared of the Linear Regression on training set: 88.26%\n",
      "R squared of the Linear Regression on test set: -20845981169189711872.00%\n"
     ]
    }
   ],
   "source": [
    "print('R squared of the Linear Regression on training set: {:.2%}'.format(pipe_LinearRegression.score(x_train, y_train)))\n",
    "print('R squared of the Linear Regression on test set: {:.2%}'.format(pipe_LinearRegression.score(x_test, y_test)))"
   ]
  },
  {
   "cell_type": "markdown",
   "metadata": {},
   "source": [
    "### DECISION TREE MODEL"
   ]
  },
  {
   "cell_type": "code",
   "execution_count": 293,
   "metadata": {},
   "outputs": [
    {
     "data": {
      "text/html": [
       "<style>#sk-container-id-16 {color: black;background-color: white;}#sk-container-id-16 pre{padding: 0;}#sk-container-id-16 div.sk-toggleable {background-color: white;}#sk-container-id-16 label.sk-toggleable__label {cursor: pointer;display: block;width: 100%;margin-bottom: 0;padding: 0.3em;box-sizing: border-box;text-align: center;}#sk-container-id-16 label.sk-toggleable__label-arrow:before {content: \"▸\";float: left;margin-right: 0.25em;color: #696969;}#sk-container-id-16 label.sk-toggleable__label-arrow:hover:before {color: black;}#sk-container-id-16 div.sk-estimator:hover label.sk-toggleable__label-arrow:before {color: black;}#sk-container-id-16 div.sk-toggleable__content {max-height: 0;max-width: 0;overflow: hidden;text-align: left;background-color: #f0f8ff;}#sk-container-id-16 div.sk-toggleable__content pre {margin: 0.2em;color: black;border-radius: 0.25em;background-color: #f0f8ff;}#sk-container-id-16 input.sk-toggleable__control:checked~div.sk-toggleable__content {max-height: 200px;max-width: 100%;overflow: auto;}#sk-container-id-16 input.sk-toggleable__control:checked~label.sk-toggleable__label-arrow:before {content: \"▾\";}#sk-container-id-16 div.sk-estimator input.sk-toggleable__control:checked~label.sk-toggleable__label {background-color: #d4ebff;}#sk-container-id-16 div.sk-label input.sk-toggleable__control:checked~label.sk-toggleable__label {background-color: #d4ebff;}#sk-container-id-16 input.sk-hidden--visually {border: 0;clip: rect(1px 1px 1px 1px);clip: rect(1px, 1px, 1px, 1px);height: 1px;margin: -1px;overflow: hidden;padding: 0;position: absolute;width: 1px;}#sk-container-id-16 div.sk-estimator {font-family: monospace;background-color: #f0f8ff;border: 1px dotted black;border-radius: 0.25em;box-sizing: border-box;margin-bottom: 0.5em;}#sk-container-id-16 div.sk-estimator:hover {background-color: #d4ebff;}#sk-container-id-16 div.sk-parallel-item::after {content: \"\";width: 100%;border-bottom: 1px solid gray;flex-grow: 1;}#sk-container-id-16 div.sk-label:hover label.sk-toggleable__label {background-color: #d4ebff;}#sk-container-id-16 div.sk-serial::before {content: \"\";position: absolute;border-left: 1px solid gray;box-sizing: border-box;top: 0;bottom: 0;left: 50%;z-index: 0;}#sk-container-id-16 div.sk-serial {display: flex;flex-direction: column;align-items: center;background-color: white;padding-right: 0.2em;padding-left: 0.2em;position: relative;}#sk-container-id-16 div.sk-item {position: relative;z-index: 1;}#sk-container-id-16 div.sk-parallel {display: flex;align-items: stretch;justify-content: center;background-color: white;position: relative;}#sk-container-id-16 div.sk-item::before, #sk-container-id-16 div.sk-parallel-item::before {content: \"\";position: absolute;border-left: 1px solid gray;box-sizing: border-box;top: 0;bottom: 0;left: 50%;z-index: -1;}#sk-container-id-16 div.sk-parallel-item {display: flex;flex-direction: column;z-index: 1;position: relative;background-color: white;}#sk-container-id-16 div.sk-parallel-item:first-child::after {align-self: flex-end;width: 50%;}#sk-container-id-16 div.sk-parallel-item:last-child::after {align-self: flex-start;width: 50%;}#sk-container-id-16 div.sk-parallel-item:only-child::after {width: 0;}#sk-container-id-16 div.sk-dashed-wrapped {border: 1px dashed gray;margin: 0 0.4em 0.5em 0.4em;box-sizing: border-box;padding-bottom: 0.4em;background-color: white;}#sk-container-id-16 div.sk-label label {font-family: monospace;font-weight: bold;display: inline-block;line-height: 1.2em;}#sk-container-id-16 div.sk-label-container {text-align: center;}#sk-container-id-16 div.sk-container {/* jupyter's `normalize.less` sets `[hidden] { display: none; }` but bootstrap.min.css set `[hidden] { display: none !important; }` so we also need the `!important` here to be able to override the default hidden behavior on the sphinx rendered scikit-learn.org. See: https://github.com/scikit-learn/scikit-learn/issues/21755 */display: inline-block !important;position: relative;}#sk-container-id-16 div.sk-text-repr-fallback {display: none;}</style><div id=\"sk-container-id-16\" class=\"sk-top-container\"><div class=\"sk-text-repr-fallback\"><pre>Pipeline(steps=[(&#x27;feat_eng_pipe&#x27;,\n",
       "                 Pipeline(steps=[(&#x27;discretizer&#x27;,\n",
       "                                  EqualFrequencyDiscretiser(variables=[&#x27;Final &#x27;\n",
       "                                                                       &#x27;Value&#x27;])),\n",
       "                                 (&#x27;OneHotEncoder&#x27;,\n",
       "                                  OneHotEncoder(drop_last=True,\n",
       "                                                variables=[&#x27;Manager Name&#x27;,\n",
       "                                                           &#x27;I/O&#x27;, &#x27;ASK Purity&#x27;,\n",
       "                                                           &#x27;Final Purity&#x27;,\n",
       "                                                           &#x27;Purity group&#x27;,\n",
       "                                                           &#x27;ASK Color&#x27;,\n",
       "                                                           &#x27;Final Color&#x27;,\n",
       "                                                           &#x27;Color Group&#x27;,\n",
       "                                                           &#x27;Size Group&#x27;,\n",
       "                                                           &#x27;Ask Size&#x27;,\n",
       "                                                           &#x27;S Purity&#x27;,\n",
       "                                                           &#x27;new_column&#x27;])),\n",
       "                                 (&#x27;scaler&#x27;, StandardScaler())])),\n",
       "                (&#x27;DecisionTree&#x27;, DecisionTreeRegressor(random_state=42))])</pre><b>In a Jupyter environment, please rerun this cell to show the HTML representation or trust the notebook. <br />On GitHub, the HTML representation is unable to render, please try loading this page with nbviewer.org.</b></div><div class=\"sk-container\" hidden><div class=\"sk-item sk-dashed-wrapped\"><div class=\"sk-label-container\"><div class=\"sk-label sk-toggleable\"><input class=\"sk-toggleable__control sk-hidden--visually\" id=\"sk-estimator-id-71\" type=\"checkbox\" ><label for=\"sk-estimator-id-71\" class=\"sk-toggleable__label sk-toggleable__label-arrow\">Pipeline</label><div class=\"sk-toggleable__content\"><pre>Pipeline(steps=[(&#x27;feat_eng_pipe&#x27;,\n",
       "                 Pipeline(steps=[(&#x27;discretizer&#x27;,\n",
       "                                  EqualFrequencyDiscretiser(variables=[&#x27;Final &#x27;\n",
       "                                                                       &#x27;Value&#x27;])),\n",
       "                                 (&#x27;OneHotEncoder&#x27;,\n",
       "                                  OneHotEncoder(drop_last=True,\n",
       "                                                variables=[&#x27;Manager Name&#x27;,\n",
       "                                                           &#x27;I/O&#x27;, &#x27;ASK Purity&#x27;,\n",
       "                                                           &#x27;Final Purity&#x27;,\n",
       "                                                           &#x27;Purity group&#x27;,\n",
       "                                                           &#x27;ASK Color&#x27;,\n",
       "                                                           &#x27;Final Color&#x27;,\n",
       "                                                           &#x27;Color Group&#x27;,\n",
       "                                                           &#x27;Size Group&#x27;,\n",
       "                                                           &#x27;Ask Size&#x27;,\n",
       "                                                           &#x27;S Purity&#x27;,\n",
       "                                                           &#x27;new_column&#x27;])),\n",
       "                                 (&#x27;scaler&#x27;, StandardScaler())])),\n",
       "                (&#x27;DecisionTree&#x27;, DecisionTreeRegressor(random_state=42))])</pre></div></div></div><div class=\"sk-serial\"><div class=\"sk-item\"><div class=\"sk-label-container\"><div class=\"sk-label sk-toggleable\"><input class=\"sk-toggleable__control sk-hidden--visually\" id=\"sk-estimator-id-72\" type=\"checkbox\" ><label for=\"sk-estimator-id-72\" class=\"sk-toggleable__label sk-toggleable__label-arrow\">feat_eng_pipe: Pipeline</label><div class=\"sk-toggleable__content\"><pre>Pipeline(steps=[(&#x27;discretizer&#x27;,\n",
       "                 EqualFrequencyDiscretiser(variables=[&#x27;Final Value&#x27;])),\n",
       "                (&#x27;OneHotEncoder&#x27;,\n",
       "                 OneHotEncoder(drop_last=True,\n",
       "                               variables=[&#x27;Manager Name&#x27;, &#x27;I/O&#x27;, &#x27;ASK Purity&#x27;,\n",
       "                                          &#x27;Final Purity&#x27;, &#x27;Purity group&#x27;,\n",
       "                                          &#x27;ASK Color&#x27;, &#x27;Final Color&#x27;,\n",
       "                                          &#x27;Color Group&#x27;, &#x27;Size Group&#x27;,\n",
       "                                          &#x27;Ask Size&#x27;, &#x27;S Purity&#x27;,\n",
       "                                          &#x27;new_column&#x27;])),\n",
       "                (&#x27;scaler&#x27;, StandardScaler())])</pre></div></div></div><div class=\"sk-serial\"><div class=\"sk-item\"><div class=\"sk-estimator sk-toggleable\"><input class=\"sk-toggleable__control sk-hidden--visually\" id=\"sk-estimator-id-73\" type=\"checkbox\" ><label for=\"sk-estimator-id-73\" class=\"sk-toggleable__label sk-toggleable__label-arrow\">EqualFrequencyDiscretiser</label><div class=\"sk-toggleable__content\"><pre>EqualFrequencyDiscretiser(variables=[&#x27;Final Value&#x27;])</pre></div></div></div><div class=\"sk-item\"><div class=\"sk-estimator sk-toggleable\"><input class=\"sk-toggleable__control sk-hidden--visually\" id=\"sk-estimator-id-74\" type=\"checkbox\" ><label for=\"sk-estimator-id-74\" class=\"sk-toggleable__label sk-toggleable__label-arrow\">OneHotEncoder</label><div class=\"sk-toggleable__content\"><pre>OneHotEncoder(drop_last=True,\n",
       "              variables=[&#x27;Manager Name&#x27;, &#x27;I/O&#x27;, &#x27;ASK Purity&#x27;, &#x27;Final Purity&#x27;,\n",
       "                         &#x27;Purity group&#x27;, &#x27;ASK Color&#x27;, &#x27;Final Color&#x27;,\n",
       "                         &#x27;Color Group&#x27;, &#x27;Size Group&#x27;, &#x27;Ask Size&#x27;, &#x27;S Purity&#x27;,\n",
       "                         &#x27;new_column&#x27;])</pre></div></div></div><div class=\"sk-item\"><div class=\"sk-estimator sk-toggleable\"><input class=\"sk-toggleable__control sk-hidden--visually\" id=\"sk-estimator-id-75\" type=\"checkbox\" ><label for=\"sk-estimator-id-75\" class=\"sk-toggleable__label sk-toggleable__label-arrow\">StandardScaler</label><div class=\"sk-toggleable__content\"><pre>StandardScaler()</pre></div></div></div></div></div><div class=\"sk-item\"><div class=\"sk-estimator sk-toggleable\"><input class=\"sk-toggleable__control sk-hidden--visually\" id=\"sk-estimator-id-76\" type=\"checkbox\" ><label for=\"sk-estimator-id-76\" class=\"sk-toggleable__label sk-toggleable__label-arrow\">DecisionTreeRegressor</label><div class=\"sk-toggleable__content\"><pre>DecisionTreeRegressor(random_state=42)</pre></div></div></div></div></div></div></div>"
      ],
      "text/plain": [
       "Pipeline(steps=[('feat_eng_pipe',\n",
       "                 Pipeline(steps=[('discretizer',\n",
       "                                  EqualFrequencyDiscretiser(variables=['Final '\n",
       "                                                                       'Value'])),\n",
       "                                 ('OneHotEncoder',\n",
       "                                  OneHotEncoder(drop_last=True,\n",
       "                                                variables=['Manager Name',\n",
       "                                                           'I/O', 'ASK Purity',\n",
       "                                                           'Final Purity',\n",
       "                                                           'Purity group',\n",
       "                                                           'ASK Color',\n",
       "                                                           'Final Color',\n",
       "                                                           'Color Group',\n",
       "                                                           'Size Group',\n",
       "                                                           'Ask Size',\n",
       "                                                           'S Purity',\n",
       "                                                           'new_column'])),\n",
       "                                 ('scaler', StandardScaler())])),\n",
       "                ('DecisionTree', DecisionTreeRegressor(random_state=42))])"
      ]
     },
     "execution_count": 293,
     "metadata": {},
     "output_type": "execute_result"
    }
   ],
   "source": [
    "import sklearn.tree as st\n",
    "\n",
    "#initialize DecisionTree\n",
    "DT = st.DecisionTreeRegressor(random_state=42)\n",
    "pipe_DecisionTree = Pipeline(\n",
    "    steps=[\n",
    "        # ===== feat_eng_pipe =====\n",
    "        (\"feat_eng_pipe\", feat_eng_pipe),\n",
    "        # ===== xgboostmodel Model =====\n",
    "        (\"DecisionTree\",DT),\n",
    "    ]\n",
    ")\n",
    "\n",
    "pipe_DecisionTree"
   ]
  },
  {
   "cell_type": "code",
   "execution_count": 294,
   "metadata": {},
   "outputs": [
    {
     "data": {
      "text/plain": [
       "array([ 357.23333333,  530.        , 4781.0625    , ..., 1260.        ,\n",
       "       8280.        ,  281.25      ])"
      ]
     },
     "execution_count": 294,
     "metadata": {},
     "output_type": "execute_result"
    }
   ],
   "source": [
    "# Fit\n",
    "pipe_DecisionTree.fit(x_train, y_train)\n",
    "\n",
    "# Make predictions\n",
    "y_pred_2 = pipe_DecisionTree.predict(x_test)\n",
    "y_pred_2"
   ]
  },
  {
   "cell_type": "code",
   "execution_count": 295,
   "metadata": {},
   "outputs": [
    {
     "name": "stdout",
     "output_type": "stream",
     "text": [
      "R squared of the Decision Tree Regressor on training set: 97.70%\n",
      "R squared of the Decision Tree Regressor on test set: 98.08%\n"
     ]
    }
   ],
   "source": [
    "print('R squared of the Decision Tree Regressor on training set: {:.2%}'.format(pipe_DecisionTree.score(x_train, y_train)))\n",
    "print('R squared of the Decision Tree Regressor on test set: {:.2%}'.format(pipe_DecisionTree.score(x_test, y_test)))"
   ]
  },
  {
   "cell_type": "markdown",
   "metadata": {},
   "source": [
    "### RANDOM FOREST REGRESSOR MODEL"
   ]
  },
  {
   "cell_type": "code",
   "execution_count": 297,
   "metadata": {},
   "outputs": [
    {
     "data": {
      "text/html": [
       "<style>#sk-container-id-17 {color: black;background-color: white;}#sk-container-id-17 pre{padding: 0;}#sk-container-id-17 div.sk-toggleable {background-color: white;}#sk-container-id-17 label.sk-toggleable__label {cursor: pointer;display: block;width: 100%;margin-bottom: 0;padding: 0.3em;box-sizing: border-box;text-align: center;}#sk-container-id-17 label.sk-toggleable__label-arrow:before {content: \"▸\";float: left;margin-right: 0.25em;color: #696969;}#sk-container-id-17 label.sk-toggleable__label-arrow:hover:before {color: black;}#sk-container-id-17 div.sk-estimator:hover label.sk-toggleable__label-arrow:before {color: black;}#sk-container-id-17 div.sk-toggleable__content {max-height: 0;max-width: 0;overflow: hidden;text-align: left;background-color: #f0f8ff;}#sk-container-id-17 div.sk-toggleable__content pre {margin: 0.2em;color: black;border-radius: 0.25em;background-color: #f0f8ff;}#sk-container-id-17 input.sk-toggleable__control:checked~div.sk-toggleable__content {max-height: 200px;max-width: 100%;overflow: auto;}#sk-container-id-17 input.sk-toggleable__control:checked~label.sk-toggleable__label-arrow:before {content: \"▾\";}#sk-container-id-17 div.sk-estimator input.sk-toggleable__control:checked~label.sk-toggleable__label {background-color: #d4ebff;}#sk-container-id-17 div.sk-label input.sk-toggleable__control:checked~label.sk-toggleable__label {background-color: #d4ebff;}#sk-container-id-17 input.sk-hidden--visually {border: 0;clip: rect(1px 1px 1px 1px);clip: rect(1px, 1px, 1px, 1px);height: 1px;margin: -1px;overflow: hidden;padding: 0;position: absolute;width: 1px;}#sk-container-id-17 div.sk-estimator {font-family: monospace;background-color: #f0f8ff;border: 1px dotted black;border-radius: 0.25em;box-sizing: border-box;margin-bottom: 0.5em;}#sk-container-id-17 div.sk-estimator:hover {background-color: #d4ebff;}#sk-container-id-17 div.sk-parallel-item::after {content: \"\";width: 100%;border-bottom: 1px solid gray;flex-grow: 1;}#sk-container-id-17 div.sk-label:hover label.sk-toggleable__label {background-color: #d4ebff;}#sk-container-id-17 div.sk-serial::before {content: \"\";position: absolute;border-left: 1px solid gray;box-sizing: border-box;top: 0;bottom: 0;left: 50%;z-index: 0;}#sk-container-id-17 div.sk-serial {display: flex;flex-direction: column;align-items: center;background-color: white;padding-right: 0.2em;padding-left: 0.2em;position: relative;}#sk-container-id-17 div.sk-item {position: relative;z-index: 1;}#sk-container-id-17 div.sk-parallel {display: flex;align-items: stretch;justify-content: center;background-color: white;position: relative;}#sk-container-id-17 div.sk-item::before, #sk-container-id-17 div.sk-parallel-item::before {content: \"\";position: absolute;border-left: 1px solid gray;box-sizing: border-box;top: 0;bottom: 0;left: 50%;z-index: -1;}#sk-container-id-17 div.sk-parallel-item {display: flex;flex-direction: column;z-index: 1;position: relative;background-color: white;}#sk-container-id-17 div.sk-parallel-item:first-child::after {align-self: flex-end;width: 50%;}#sk-container-id-17 div.sk-parallel-item:last-child::after {align-self: flex-start;width: 50%;}#sk-container-id-17 div.sk-parallel-item:only-child::after {width: 0;}#sk-container-id-17 div.sk-dashed-wrapped {border: 1px dashed gray;margin: 0 0.4em 0.5em 0.4em;box-sizing: border-box;padding-bottom: 0.4em;background-color: white;}#sk-container-id-17 div.sk-label label {font-family: monospace;font-weight: bold;display: inline-block;line-height: 1.2em;}#sk-container-id-17 div.sk-label-container {text-align: center;}#sk-container-id-17 div.sk-container {/* jupyter's `normalize.less` sets `[hidden] { display: none; }` but bootstrap.min.css set `[hidden] { display: none !important; }` so we also need the `!important` here to be able to override the default hidden behavior on the sphinx rendered scikit-learn.org. See: https://github.com/scikit-learn/scikit-learn/issues/21755 */display: inline-block !important;position: relative;}#sk-container-id-17 div.sk-text-repr-fallback {display: none;}</style><div id=\"sk-container-id-17\" class=\"sk-top-container\"><div class=\"sk-text-repr-fallback\"><pre>Pipeline(steps=[(&#x27;feat_eng_pipe&#x27;,\n",
       "                 Pipeline(steps=[(&#x27;discretizer&#x27;,\n",
       "                                  EqualFrequencyDiscretiser(variables=[&#x27;Final &#x27;\n",
       "                                                                       &#x27;Value&#x27;])),\n",
       "                                 (&#x27;OneHotEncoder&#x27;,\n",
       "                                  OneHotEncoder(drop_last=True,\n",
       "                                                variables=[&#x27;Manager Name&#x27;,\n",
       "                                                           &#x27;I/O&#x27;, &#x27;ASK Purity&#x27;,\n",
       "                                                           &#x27;Final Purity&#x27;,\n",
       "                                                           &#x27;Purity group&#x27;,\n",
       "                                                           &#x27;ASK Color&#x27;,\n",
       "                                                           &#x27;Final Color&#x27;,\n",
       "                                                           &#x27;Color Group&#x27;,\n",
       "                                                           &#x27;Size Group&#x27;,\n",
       "                                                           &#x27;Ask Size&#x27;,\n",
       "                                                           &#x27;S Purity&#x27;,\n",
       "                                                           &#x27;new_column&#x27;])),\n",
       "                                 (&#x27;scaler&#x27;, StandardScaler())])),\n",
       "                (&#x27;RandomForest&#x27;, RandomForestRegressor(random_state=42))])</pre><b>In a Jupyter environment, please rerun this cell to show the HTML representation or trust the notebook. <br />On GitHub, the HTML representation is unable to render, please try loading this page with nbviewer.org.</b></div><div class=\"sk-container\" hidden><div class=\"sk-item sk-dashed-wrapped\"><div class=\"sk-label-container\"><div class=\"sk-label sk-toggleable\"><input class=\"sk-toggleable__control sk-hidden--visually\" id=\"sk-estimator-id-77\" type=\"checkbox\" ><label for=\"sk-estimator-id-77\" class=\"sk-toggleable__label sk-toggleable__label-arrow\">Pipeline</label><div class=\"sk-toggleable__content\"><pre>Pipeline(steps=[(&#x27;feat_eng_pipe&#x27;,\n",
       "                 Pipeline(steps=[(&#x27;discretizer&#x27;,\n",
       "                                  EqualFrequencyDiscretiser(variables=[&#x27;Final &#x27;\n",
       "                                                                       &#x27;Value&#x27;])),\n",
       "                                 (&#x27;OneHotEncoder&#x27;,\n",
       "                                  OneHotEncoder(drop_last=True,\n",
       "                                                variables=[&#x27;Manager Name&#x27;,\n",
       "                                                           &#x27;I/O&#x27;, &#x27;ASK Purity&#x27;,\n",
       "                                                           &#x27;Final Purity&#x27;,\n",
       "                                                           &#x27;Purity group&#x27;,\n",
       "                                                           &#x27;ASK Color&#x27;,\n",
       "                                                           &#x27;Final Color&#x27;,\n",
       "                                                           &#x27;Color Group&#x27;,\n",
       "                                                           &#x27;Size Group&#x27;,\n",
       "                                                           &#x27;Ask Size&#x27;,\n",
       "                                                           &#x27;S Purity&#x27;,\n",
       "                                                           &#x27;new_column&#x27;])),\n",
       "                                 (&#x27;scaler&#x27;, StandardScaler())])),\n",
       "                (&#x27;RandomForest&#x27;, RandomForestRegressor(random_state=42))])</pre></div></div></div><div class=\"sk-serial\"><div class=\"sk-item\"><div class=\"sk-label-container\"><div class=\"sk-label sk-toggleable\"><input class=\"sk-toggleable__control sk-hidden--visually\" id=\"sk-estimator-id-78\" type=\"checkbox\" ><label for=\"sk-estimator-id-78\" class=\"sk-toggleable__label sk-toggleable__label-arrow\">feat_eng_pipe: Pipeline</label><div class=\"sk-toggleable__content\"><pre>Pipeline(steps=[(&#x27;discretizer&#x27;,\n",
       "                 EqualFrequencyDiscretiser(variables=[&#x27;Final Value&#x27;])),\n",
       "                (&#x27;OneHotEncoder&#x27;,\n",
       "                 OneHotEncoder(drop_last=True,\n",
       "                               variables=[&#x27;Manager Name&#x27;, &#x27;I/O&#x27;, &#x27;ASK Purity&#x27;,\n",
       "                                          &#x27;Final Purity&#x27;, &#x27;Purity group&#x27;,\n",
       "                                          &#x27;ASK Color&#x27;, &#x27;Final Color&#x27;,\n",
       "                                          &#x27;Color Group&#x27;, &#x27;Size Group&#x27;,\n",
       "                                          &#x27;Ask Size&#x27;, &#x27;S Purity&#x27;,\n",
       "                                          &#x27;new_column&#x27;])),\n",
       "                (&#x27;scaler&#x27;, StandardScaler())])</pre></div></div></div><div class=\"sk-serial\"><div class=\"sk-item\"><div class=\"sk-estimator sk-toggleable\"><input class=\"sk-toggleable__control sk-hidden--visually\" id=\"sk-estimator-id-79\" type=\"checkbox\" ><label for=\"sk-estimator-id-79\" class=\"sk-toggleable__label sk-toggleable__label-arrow\">EqualFrequencyDiscretiser</label><div class=\"sk-toggleable__content\"><pre>EqualFrequencyDiscretiser(variables=[&#x27;Final Value&#x27;])</pre></div></div></div><div class=\"sk-item\"><div class=\"sk-estimator sk-toggleable\"><input class=\"sk-toggleable__control sk-hidden--visually\" id=\"sk-estimator-id-80\" type=\"checkbox\" ><label for=\"sk-estimator-id-80\" class=\"sk-toggleable__label sk-toggleable__label-arrow\">OneHotEncoder</label><div class=\"sk-toggleable__content\"><pre>OneHotEncoder(drop_last=True,\n",
       "              variables=[&#x27;Manager Name&#x27;, &#x27;I/O&#x27;, &#x27;ASK Purity&#x27;, &#x27;Final Purity&#x27;,\n",
       "                         &#x27;Purity group&#x27;, &#x27;ASK Color&#x27;, &#x27;Final Color&#x27;,\n",
       "                         &#x27;Color Group&#x27;, &#x27;Size Group&#x27;, &#x27;Ask Size&#x27;, &#x27;S Purity&#x27;,\n",
       "                         &#x27;new_column&#x27;])</pre></div></div></div><div class=\"sk-item\"><div class=\"sk-estimator sk-toggleable\"><input class=\"sk-toggleable__control sk-hidden--visually\" id=\"sk-estimator-id-81\" type=\"checkbox\" ><label for=\"sk-estimator-id-81\" class=\"sk-toggleable__label sk-toggleable__label-arrow\">StandardScaler</label><div class=\"sk-toggleable__content\"><pre>StandardScaler()</pre></div></div></div></div></div><div class=\"sk-item\"><div class=\"sk-estimator sk-toggleable\"><input class=\"sk-toggleable__control sk-hidden--visually\" id=\"sk-estimator-id-82\" type=\"checkbox\" ><label for=\"sk-estimator-id-82\" class=\"sk-toggleable__label sk-toggleable__label-arrow\">RandomForestRegressor</label><div class=\"sk-toggleable__content\"><pre>RandomForestRegressor(random_state=42)</pre></div></div></div></div></div></div></div>"
      ],
      "text/plain": [
       "Pipeline(steps=[('feat_eng_pipe',\n",
       "                 Pipeline(steps=[('discretizer',\n",
       "                                  EqualFrequencyDiscretiser(variables=['Final '\n",
       "                                                                       'Value'])),\n",
       "                                 ('OneHotEncoder',\n",
       "                                  OneHotEncoder(drop_last=True,\n",
       "                                                variables=['Manager Name',\n",
       "                                                           'I/O', 'ASK Purity',\n",
       "                                                           'Final Purity',\n",
       "                                                           'Purity group',\n",
       "                                                           'ASK Color',\n",
       "                                                           'Final Color',\n",
       "                                                           'Color Group',\n",
       "                                                           'Size Group',\n",
       "                                                           'Ask Size',\n",
       "                                                           'S Purity',\n",
       "                                                           'new_column'])),\n",
       "                                 ('scaler', StandardScaler())])),\n",
       "                ('RandomForest', RandomForestRegressor(random_state=42))])"
      ]
     },
     "execution_count": 297,
     "metadata": {},
     "output_type": "execute_result"
    }
   ],
   "source": [
    "#initialize Random Forest Model\n",
    "RF = RandomForestRegressor(n_estimators=100, random_state=42)\n",
    "pipe_RandomForest = Pipeline(\n",
    "    steps=[\n",
    "        # ===== feat_eng_pipe =====\n",
    "        (\"feat_eng_pipe\", feat_eng_pipe),\n",
    "        # ===== Random Forest Model Model =====\n",
    "        (\"RandomForest\",RF),\n",
    "    ]\n",
    ")\n",
    "\n",
    "pipe_RandomForest"
   ]
  },
  {
   "cell_type": "code",
   "execution_count": 298,
   "metadata": {},
   "outputs": [
    {
     "data": {
      "text/plain": [
       "array([ 358.33147239,  543.28380952, 4786.33777539, ..., 1260.2625    ,\n",
       "       8242.84      ,  281.14678482])"
      ]
     },
     "execution_count": 298,
     "metadata": {},
     "output_type": "execute_result"
    }
   ],
   "source": [
    "# Fit\n",
    "pipe_RandomForest.fit(x_train, y_train)\n",
    "\n",
    "# Make predictions\n",
    "y_pred_3 = pipe_RandomForest.predict(x_test)\n",
    "y_pred_3"
   ]
  },
  {
   "cell_type": "code",
   "execution_count": 299,
   "metadata": {},
   "outputs": [
    {
     "name": "stdout",
     "output_type": "stream",
     "text": [
      "R squared of the Random Forest Regressor on training set: 97.41%\n",
      "R squared of the Random Forest Regressor on test set: 98.90%\n"
     ]
    }
   ],
   "source": [
    "print('R squared of the Random Forest Regressor on training set: {:.2%}'.format(pipe_RandomForest.score(x_train, y_train)))\n",
    "print('R squared of the Random Forest Regressor on test set: {:.2%}'.format(pipe_RandomForest.score(x_test, y_test)))"
   ]
  },
  {
   "cell_type": "markdown",
   "metadata": {},
   "source": [
    "### RIDGE MODEL"
   ]
  },
  {
   "cell_type": "code",
   "execution_count": 300,
   "metadata": {},
   "outputs": [
    {
     "data": {
      "text/html": [
       "<style>#sk-container-id-18 {color: black;background-color: white;}#sk-container-id-18 pre{padding: 0;}#sk-container-id-18 div.sk-toggleable {background-color: white;}#sk-container-id-18 label.sk-toggleable__label {cursor: pointer;display: block;width: 100%;margin-bottom: 0;padding: 0.3em;box-sizing: border-box;text-align: center;}#sk-container-id-18 label.sk-toggleable__label-arrow:before {content: \"▸\";float: left;margin-right: 0.25em;color: #696969;}#sk-container-id-18 label.sk-toggleable__label-arrow:hover:before {color: black;}#sk-container-id-18 div.sk-estimator:hover label.sk-toggleable__label-arrow:before {color: black;}#sk-container-id-18 div.sk-toggleable__content {max-height: 0;max-width: 0;overflow: hidden;text-align: left;background-color: #f0f8ff;}#sk-container-id-18 div.sk-toggleable__content pre {margin: 0.2em;color: black;border-radius: 0.25em;background-color: #f0f8ff;}#sk-container-id-18 input.sk-toggleable__control:checked~div.sk-toggleable__content {max-height: 200px;max-width: 100%;overflow: auto;}#sk-container-id-18 input.sk-toggleable__control:checked~label.sk-toggleable__label-arrow:before {content: \"▾\";}#sk-container-id-18 div.sk-estimator input.sk-toggleable__control:checked~label.sk-toggleable__label {background-color: #d4ebff;}#sk-container-id-18 div.sk-label input.sk-toggleable__control:checked~label.sk-toggleable__label {background-color: #d4ebff;}#sk-container-id-18 input.sk-hidden--visually {border: 0;clip: rect(1px 1px 1px 1px);clip: rect(1px, 1px, 1px, 1px);height: 1px;margin: -1px;overflow: hidden;padding: 0;position: absolute;width: 1px;}#sk-container-id-18 div.sk-estimator {font-family: monospace;background-color: #f0f8ff;border: 1px dotted black;border-radius: 0.25em;box-sizing: border-box;margin-bottom: 0.5em;}#sk-container-id-18 div.sk-estimator:hover {background-color: #d4ebff;}#sk-container-id-18 div.sk-parallel-item::after {content: \"\";width: 100%;border-bottom: 1px solid gray;flex-grow: 1;}#sk-container-id-18 div.sk-label:hover label.sk-toggleable__label {background-color: #d4ebff;}#sk-container-id-18 div.sk-serial::before {content: \"\";position: absolute;border-left: 1px solid gray;box-sizing: border-box;top: 0;bottom: 0;left: 50%;z-index: 0;}#sk-container-id-18 div.sk-serial {display: flex;flex-direction: column;align-items: center;background-color: white;padding-right: 0.2em;padding-left: 0.2em;position: relative;}#sk-container-id-18 div.sk-item {position: relative;z-index: 1;}#sk-container-id-18 div.sk-parallel {display: flex;align-items: stretch;justify-content: center;background-color: white;position: relative;}#sk-container-id-18 div.sk-item::before, #sk-container-id-18 div.sk-parallel-item::before {content: \"\";position: absolute;border-left: 1px solid gray;box-sizing: border-box;top: 0;bottom: 0;left: 50%;z-index: -1;}#sk-container-id-18 div.sk-parallel-item {display: flex;flex-direction: column;z-index: 1;position: relative;background-color: white;}#sk-container-id-18 div.sk-parallel-item:first-child::after {align-self: flex-end;width: 50%;}#sk-container-id-18 div.sk-parallel-item:last-child::after {align-self: flex-start;width: 50%;}#sk-container-id-18 div.sk-parallel-item:only-child::after {width: 0;}#sk-container-id-18 div.sk-dashed-wrapped {border: 1px dashed gray;margin: 0 0.4em 0.5em 0.4em;box-sizing: border-box;padding-bottom: 0.4em;background-color: white;}#sk-container-id-18 div.sk-label label {font-family: monospace;font-weight: bold;display: inline-block;line-height: 1.2em;}#sk-container-id-18 div.sk-label-container {text-align: center;}#sk-container-id-18 div.sk-container {/* jupyter's `normalize.less` sets `[hidden] { display: none; }` but bootstrap.min.css set `[hidden] { display: none !important; }` so we also need the `!important` here to be able to override the default hidden behavior on the sphinx rendered scikit-learn.org. See: https://github.com/scikit-learn/scikit-learn/issues/21755 */display: inline-block !important;position: relative;}#sk-container-id-18 div.sk-text-repr-fallback {display: none;}</style><div id=\"sk-container-id-18\" class=\"sk-top-container\"><div class=\"sk-text-repr-fallback\"><pre>Pipeline(steps=[(&#x27;feat_eng_pipe&#x27;,\n",
       "                 Pipeline(steps=[(&#x27;discretizer&#x27;,\n",
       "                                  EqualFrequencyDiscretiser(variables=[&#x27;Final &#x27;\n",
       "                                                                       &#x27;Value&#x27;])),\n",
       "                                 (&#x27;OneHotEncoder&#x27;,\n",
       "                                  OneHotEncoder(drop_last=True,\n",
       "                                                variables=[&#x27;Manager Name&#x27;,\n",
       "                                                           &#x27;I/O&#x27;, &#x27;ASK Purity&#x27;,\n",
       "                                                           &#x27;Final Purity&#x27;,\n",
       "                                                           &#x27;Purity group&#x27;,\n",
       "                                                           &#x27;ASK Color&#x27;,\n",
       "                                                           &#x27;Final Color&#x27;,\n",
       "                                                           &#x27;Color Group&#x27;,\n",
       "                                                           &#x27;Size Group&#x27;,\n",
       "                                                           &#x27;Ask Size&#x27;,\n",
       "                                                           &#x27;S Purity&#x27;,\n",
       "                                                           &#x27;new_column&#x27;])),\n",
       "                                 (&#x27;scaler&#x27;, StandardScaler())])),\n",
       "                (&#x27;Ridge&#x27;, Ridge(random_state=42))])</pre><b>In a Jupyter environment, please rerun this cell to show the HTML representation or trust the notebook. <br />On GitHub, the HTML representation is unable to render, please try loading this page with nbviewer.org.</b></div><div class=\"sk-container\" hidden><div class=\"sk-item sk-dashed-wrapped\"><div class=\"sk-label-container\"><div class=\"sk-label sk-toggleable\"><input class=\"sk-toggleable__control sk-hidden--visually\" id=\"sk-estimator-id-83\" type=\"checkbox\" ><label for=\"sk-estimator-id-83\" class=\"sk-toggleable__label sk-toggleable__label-arrow\">Pipeline</label><div class=\"sk-toggleable__content\"><pre>Pipeline(steps=[(&#x27;feat_eng_pipe&#x27;,\n",
       "                 Pipeline(steps=[(&#x27;discretizer&#x27;,\n",
       "                                  EqualFrequencyDiscretiser(variables=[&#x27;Final &#x27;\n",
       "                                                                       &#x27;Value&#x27;])),\n",
       "                                 (&#x27;OneHotEncoder&#x27;,\n",
       "                                  OneHotEncoder(drop_last=True,\n",
       "                                                variables=[&#x27;Manager Name&#x27;,\n",
       "                                                           &#x27;I/O&#x27;, &#x27;ASK Purity&#x27;,\n",
       "                                                           &#x27;Final Purity&#x27;,\n",
       "                                                           &#x27;Purity group&#x27;,\n",
       "                                                           &#x27;ASK Color&#x27;,\n",
       "                                                           &#x27;Final Color&#x27;,\n",
       "                                                           &#x27;Color Group&#x27;,\n",
       "                                                           &#x27;Size Group&#x27;,\n",
       "                                                           &#x27;Ask Size&#x27;,\n",
       "                                                           &#x27;S Purity&#x27;,\n",
       "                                                           &#x27;new_column&#x27;])),\n",
       "                                 (&#x27;scaler&#x27;, StandardScaler())])),\n",
       "                (&#x27;Ridge&#x27;, Ridge(random_state=42))])</pre></div></div></div><div class=\"sk-serial\"><div class=\"sk-item\"><div class=\"sk-label-container\"><div class=\"sk-label sk-toggleable\"><input class=\"sk-toggleable__control sk-hidden--visually\" id=\"sk-estimator-id-84\" type=\"checkbox\" ><label for=\"sk-estimator-id-84\" class=\"sk-toggleable__label sk-toggleable__label-arrow\">feat_eng_pipe: Pipeline</label><div class=\"sk-toggleable__content\"><pre>Pipeline(steps=[(&#x27;discretizer&#x27;,\n",
       "                 EqualFrequencyDiscretiser(variables=[&#x27;Final Value&#x27;])),\n",
       "                (&#x27;OneHotEncoder&#x27;,\n",
       "                 OneHotEncoder(drop_last=True,\n",
       "                               variables=[&#x27;Manager Name&#x27;, &#x27;I/O&#x27;, &#x27;ASK Purity&#x27;,\n",
       "                                          &#x27;Final Purity&#x27;, &#x27;Purity group&#x27;,\n",
       "                                          &#x27;ASK Color&#x27;, &#x27;Final Color&#x27;,\n",
       "                                          &#x27;Color Group&#x27;, &#x27;Size Group&#x27;,\n",
       "                                          &#x27;Ask Size&#x27;, &#x27;S Purity&#x27;,\n",
       "                                          &#x27;new_column&#x27;])),\n",
       "                (&#x27;scaler&#x27;, StandardScaler())])</pre></div></div></div><div class=\"sk-serial\"><div class=\"sk-item\"><div class=\"sk-estimator sk-toggleable\"><input class=\"sk-toggleable__control sk-hidden--visually\" id=\"sk-estimator-id-85\" type=\"checkbox\" ><label for=\"sk-estimator-id-85\" class=\"sk-toggleable__label sk-toggleable__label-arrow\">EqualFrequencyDiscretiser</label><div class=\"sk-toggleable__content\"><pre>EqualFrequencyDiscretiser(variables=[&#x27;Final Value&#x27;])</pre></div></div></div><div class=\"sk-item\"><div class=\"sk-estimator sk-toggleable\"><input class=\"sk-toggleable__control sk-hidden--visually\" id=\"sk-estimator-id-86\" type=\"checkbox\" ><label for=\"sk-estimator-id-86\" class=\"sk-toggleable__label sk-toggleable__label-arrow\">OneHotEncoder</label><div class=\"sk-toggleable__content\"><pre>OneHotEncoder(drop_last=True,\n",
       "              variables=[&#x27;Manager Name&#x27;, &#x27;I/O&#x27;, &#x27;ASK Purity&#x27;, &#x27;Final Purity&#x27;,\n",
       "                         &#x27;Purity group&#x27;, &#x27;ASK Color&#x27;, &#x27;Final Color&#x27;,\n",
       "                         &#x27;Color Group&#x27;, &#x27;Size Group&#x27;, &#x27;Ask Size&#x27;, &#x27;S Purity&#x27;,\n",
       "                         &#x27;new_column&#x27;])</pre></div></div></div><div class=\"sk-item\"><div class=\"sk-estimator sk-toggleable\"><input class=\"sk-toggleable__control sk-hidden--visually\" id=\"sk-estimator-id-87\" type=\"checkbox\" ><label for=\"sk-estimator-id-87\" class=\"sk-toggleable__label sk-toggleable__label-arrow\">StandardScaler</label><div class=\"sk-toggleable__content\"><pre>StandardScaler()</pre></div></div></div></div></div><div class=\"sk-item\"><div class=\"sk-estimator sk-toggleable\"><input class=\"sk-toggleable__control sk-hidden--visually\" id=\"sk-estimator-id-88\" type=\"checkbox\" ><label for=\"sk-estimator-id-88\" class=\"sk-toggleable__label sk-toggleable__label-arrow\">Ridge</label><div class=\"sk-toggleable__content\"><pre>Ridge(random_state=42)</pre></div></div></div></div></div></div></div>"
      ],
      "text/plain": [
       "Pipeline(steps=[('feat_eng_pipe',\n",
       "                 Pipeline(steps=[('discretizer',\n",
       "                                  EqualFrequencyDiscretiser(variables=['Final '\n",
       "                                                                       'Value'])),\n",
       "                                 ('OneHotEncoder',\n",
       "                                  OneHotEncoder(drop_last=True,\n",
       "                                                variables=['Manager Name',\n",
       "                                                           'I/O', 'ASK Purity',\n",
       "                                                           'Final Purity',\n",
       "                                                           'Purity group',\n",
       "                                                           'ASK Color',\n",
       "                                                           'Final Color',\n",
       "                                                           'Color Group',\n",
       "                                                           'Size Group',\n",
       "                                                           'Ask Size',\n",
       "                                                           'S Purity',\n",
       "                                                           'new_column'])),\n",
       "                                 ('scaler', StandardScaler())])),\n",
       "                ('Ridge', Ridge(random_state=42))])"
      ]
     },
     "execution_count": 300,
     "metadata": {},
     "output_type": "execute_result"
    }
   ],
   "source": [
    "#initialize Ridge model\n",
    "ridge = Ridge(alpha=1.0, random_state=42)\n",
    "pipe_Ridge = Pipeline(\n",
    "    steps=[\n",
    "        # ===== feat_eng_pipe =====\n",
    "        (\"feat_eng_pipe\", feat_eng_pipe),\n",
    "        # ===== Ridge Model =====\n",
    "        (\"Ridge\",ridge),\n",
    "    ]\n",
    ")\n",
    "\n",
    "pipe_Ridge"
   ]
  },
  {
   "cell_type": "code",
   "execution_count": 301,
   "metadata": {},
   "outputs": [
    {
     "data": {
      "text/plain": [
       "array([ 1352.68427868, -1463.71653901,  4662.39763104, ...,\n",
       "        1937.77519651,  9797.4620093 ,  -516.6426281 ])"
      ]
     },
     "execution_count": 301,
     "metadata": {},
     "output_type": "execute_result"
    }
   ],
   "source": [
    "# Fit\n",
    "pipe_Ridge.fit(x_train, y_train)\n",
    "\n",
    "# Make predictions\n",
    "y_pred_4 = pipe_Ridge.predict(x_test)\n",
    "y_pred_4"
   ]
  },
  {
   "cell_type": "code",
   "execution_count": 302,
   "metadata": {},
   "outputs": [
    {
     "name": "stdout",
     "output_type": "stream",
     "text": [
      "R squared of the Ridge Regressor on training set: 88.26%\n",
      "R squared of the Ridge Regressor on test set: 90.94%\n"
     ]
    }
   ],
   "source": [
    "print('R squared of the Ridge Regressor on training set: {:.2%}'.format(pipe_Ridge.score(x_train, y_train)))\n",
    "print('R squared of the Ridge Regressor on test set: {:.2%}'.format(pipe_Ridge.score(x_test, y_test)))"
   ]
  },
  {
   "cell_type": "markdown",
   "metadata": {},
   "source": [
    "### LASSO MODEL"
   ]
  },
  {
   "cell_type": "code",
   "execution_count": 305,
   "metadata": {},
   "outputs": [
    {
     "data": {
      "text/html": [
       "<style>#sk-container-id-20 {color: black;background-color: white;}#sk-container-id-20 pre{padding: 0;}#sk-container-id-20 div.sk-toggleable {background-color: white;}#sk-container-id-20 label.sk-toggleable__label {cursor: pointer;display: block;width: 100%;margin-bottom: 0;padding: 0.3em;box-sizing: border-box;text-align: center;}#sk-container-id-20 label.sk-toggleable__label-arrow:before {content: \"▸\";float: left;margin-right: 0.25em;color: #696969;}#sk-container-id-20 label.sk-toggleable__label-arrow:hover:before {color: black;}#sk-container-id-20 div.sk-estimator:hover label.sk-toggleable__label-arrow:before {color: black;}#sk-container-id-20 div.sk-toggleable__content {max-height: 0;max-width: 0;overflow: hidden;text-align: left;background-color: #f0f8ff;}#sk-container-id-20 div.sk-toggleable__content pre {margin: 0.2em;color: black;border-radius: 0.25em;background-color: #f0f8ff;}#sk-container-id-20 input.sk-toggleable__control:checked~div.sk-toggleable__content {max-height: 200px;max-width: 100%;overflow: auto;}#sk-container-id-20 input.sk-toggleable__control:checked~label.sk-toggleable__label-arrow:before {content: \"▾\";}#sk-container-id-20 div.sk-estimator input.sk-toggleable__control:checked~label.sk-toggleable__label {background-color: #d4ebff;}#sk-container-id-20 div.sk-label input.sk-toggleable__control:checked~label.sk-toggleable__label {background-color: #d4ebff;}#sk-container-id-20 input.sk-hidden--visually {border: 0;clip: rect(1px 1px 1px 1px);clip: rect(1px, 1px, 1px, 1px);height: 1px;margin: -1px;overflow: hidden;padding: 0;position: absolute;width: 1px;}#sk-container-id-20 div.sk-estimator {font-family: monospace;background-color: #f0f8ff;border: 1px dotted black;border-radius: 0.25em;box-sizing: border-box;margin-bottom: 0.5em;}#sk-container-id-20 div.sk-estimator:hover {background-color: #d4ebff;}#sk-container-id-20 div.sk-parallel-item::after {content: \"\";width: 100%;border-bottom: 1px solid gray;flex-grow: 1;}#sk-container-id-20 div.sk-label:hover label.sk-toggleable__label {background-color: #d4ebff;}#sk-container-id-20 div.sk-serial::before {content: \"\";position: absolute;border-left: 1px solid gray;box-sizing: border-box;top: 0;bottom: 0;left: 50%;z-index: 0;}#sk-container-id-20 div.sk-serial {display: flex;flex-direction: column;align-items: center;background-color: white;padding-right: 0.2em;padding-left: 0.2em;position: relative;}#sk-container-id-20 div.sk-item {position: relative;z-index: 1;}#sk-container-id-20 div.sk-parallel {display: flex;align-items: stretch;justify-content: center;background-color: white;position: relative;}#sk-container-id-20 div.sk-item::before, #sk-container-id-20 div.sk-parallel-item::before {content: \"\";position: absolute;border-left: 1px solid gray;box-sizing: border-box;top: 0;bottom: 0;left: 50%;z-index: -1;}#sk-container-id-20 div.sk-parallel-item {display: flex;flex-direction: column;z-index: 1;position: relative;background-color: white;}#sk-container-id-20 div.sk-parallel-item:first-child::after {align-self: flex-end;width: 50%;}#sk-container-id-20 div.sk-parallel-item:last-child::after {align-self: flex-start;width: 50%;}#sk-container-id-20 div.sk-parallel-item:only-child::after {width: 0;}#sk-container-id-20 div.sk-dashed-wrapped {border: 1px dashed gray;margin: 0 0.4em 0.5em 0.4em;box-sizing: border-box;padding-bottom: 0.4em;background-color: white;}#sk-container-id-20 div.sk-label label {font-family: monospace;font-weight: bold;display: inline-block;line-height: 1.2em;}#sk-container-id-20 div.sk-label-container {text-align: center;}#sk-container-id-20 div.sk-container {/* jupyter's `normalize.less` sets `[hidden] { display: none; }` but bootstrap.min.css set `[hidden] { display: none !important; }` so we also need the `!important` here to be able to override the default hidden behavior on the sphinx rendered scikit-learn.org. See: https://github.com/scikit-learn/scikit-learn/issues/21755 */display: inline-block !important;position: relative;}#sk-container-id-20 div.sk-text-repr-fallback {display: none;}</style><div id=\"sk-container-id-20\" class=\"sk-top-container\"><div class=\"sk-text-repr-fallback\"><pre>Pipeline(steps=[(&#x27;feat_eng_pipe&#x27;,\n",
       "                 Pipeline(steps=[(&#x27;discretizer&#x27;,\n",
       "                                  EqualFrequencyDiscretiser(variables=[&#x27;Final &#x27;\n",
       "                                                                       &#x27;Value&#x27;])),\n",
       "                                 (&#x27;OneHotEncoder&#x27;,\n",
       "                                  OneHotEncoder(drop_last=True,\n",
       "                                                variables=[&#x27;Manager Name&#x27;,\n",
       "                                                           &#x27;I/O&#x27;, &#x27;ASK Purity&#x27;,\n",
       "                                                           &#x27;Final Purity&#x27;,\n",
       "                                                           &#x27;Purity group&#x27;,\n",
       "                                                           &#x27;ASK Color&#x27;,\n",
       "                                                           &#x27;Final Color&#x27;,\n",
       "                                                           &#x27;Color Group&#x27;,\n",
       "                                                           &#x27;Size Group&#x27;,\n",
       "                                                           &#x27;Ask Size&#x27;,\n",
       "                                                           &#x27;S Purity&#x27;,\n",
       "                                                           &#x27;new_column&#x27;])),\n",
       "                                 (&#x27;scaler&#x27;, StandardScaler())])),\n",
       "                (&#x27;Ridge&#x27;, Lasso(max_iter=10000, random_state=42))])</pre><b>In a Jupyter environment, please rerun this cell to show the HTML representation or trust the notebook. <br />On GitHub, the HTML representation is unable to render, please try loading this page with nbviewer.org.</b></div><div class=\"sk-container\" hidden><div class=\"sk-item sk-dashed-wrapped\"><div class=\"sk-label-container\"><div class=\"sk-label sk-toggleable\"><input class=\"sk-toggleable__control sk-hidden--visually\" id=\"sk-estimator-id-95\" type=\"checkbox\" ><label for=\"sk-estimator-id-95\" class=\"sk-toggleable__label sk-toggleable__label-arrow\">Pipeline</label><div class=\"sk-toggleable__content\"><pre>Pipeline(steps=[(&#x27;feat_eng_pipe&#x27;,\n",
       "                 Pipeline(steps=[(&#x27;discretizer&#x27;,\n",
       "                                  EqualFrequencyDiscretiser(variables=[&#x27;Final &#x27;\n",
       "                                                                       &#x27;Value&#x27;])),\n",
       "                                 (&#x27;OneHotEncoder&#x27;,\n",
       "                                  OneHotEncoder(drop_last=True,\n",
       "                                                variables=[&#x27;Manager Name&#x27;,\n",
       "                                                           &#x27;I/O&#x27;, &#x27;ASK Purity&#x27;,\n",
       "                                                           &#x27;Final Purity&#x27;,\n",
       "                                                           &#x27;Purity group&#x27;,\n",
       "                                                           &#x27;ASK Color&#x27;,\n",
       "                                                           &#x27;Final Color&#x27;,\n",
       "                                                           &#x27;Color Group&#x27;,\n",
       "                                                           &#x27;Size Group&#x27;,\n",
       "                                                           &#x27;Ask Size&#x27;,\n",
       "                                                           &#x27;S Purity&#x27;,\n",
       "                                                           &#x27;new_column&#x27;])),\n",
       "                                 (&#x27;scaler&#x27;, StandardScaler())])),\n",
       "                (&#x27;Ridge&#x27;, Lasso(max_iter=10000, random_state=42))])</pre></div></div></div><div class=\"sk-serial\"><div class=\"sk-item\"><div class=\"sk-label-container\"><div class=\"sk-label sk-toggleable\"><input class=\"sk-toggleable__control sk-hidden--visually\" id=\"sk-estimator-id-96\" type=\"checkbox\" ><label for=\"sk-estimator-id-96\" class=\"sk-toggleable__label sk-toggleable__label-arrow\">feat_eng_pipe: Pipeline</label><div class=\"sk-toggleable__content\"><pre>Pipeline(steps=[(&#x27;discretizer&#x27;,\n",
       "                 EqualFrequencyDiscretiser(variables=[&#x27;Final Value&#x27;])),\n",
       "                (&#x27;OneHotEncoder&#x27;,\n",
       "                 OneHotEncoder(drop_last=True,\n",
       "                               variables=[&#x27;Manager Name&#x27;, &#x27;I/O&#x27;, &#x27;ASK Purity&#x27;,\n",
       "                                          &#x27;Final Purity&#x27;, &#x27;Purity group&#x27;,\n",
       "                                          &#x27;ASK Color&#x27;, &#x27;Final Color&#x27;,\n",
       "                                          &#x27;Color Group&#x27;, &#x27;Size Group&#x27;,\n",
       "                                          &#x27;Ask Size&#x27;, &#x27;S Purity&#x27;,\n",
       "                                          &#x27;new_column&#x27;])),\n",
       "                (&#x27;scaler&#x27;, StandardScaler())])</pre></div></div></div><div class=\"sk-serial\"><div class=\"sk-item\"><div class=\"sk-estimator sk-toggleable\"><input class=\"sk-toggleable__control sk-hidden--visually\" id=\"sk-estimator-id-97\" type=\"checkbox\" ><label for=\"sk-estimator-id-97\" class=\"sk-toggleable__label sk-toggleable__label-arrow\">EqualFrequencyDiscretiser</label><div class=\"sk-toggleable__content\"><pre>EqualFrequencyDiscretiser(variables=[&#x27;Final Value&#x27;])</pre></div></div></div><div class=\"sk-item\"><div class=\"sk-estimator sk-toggleable\"><input class=\"sk-toggleable__control sk-hidden--visually\" id=\"sk-estimator-id-98\" type=\"checkbox\" ><label for=\"sk-estimator-id-98\" class=\"sk-toggleable__label sk-toggleable__label-arrow\">OneHotEncoder</label><div class=\"sk-toggleable__content\"><pre>OneHotEncoder(drop_last=True,\n",
       "              variables=[&#x27;Manager Name&#x27;, &#x27;I/O&#x27;, &#x27;ASK Purity&#x27;, &#x27;Final Purity&#x27;,\n",
       "                         &#x27;Purity group&#x27;, &#x27;ASK Color&#x27;, &#x27;Final Color&#x27;,\n",
       "                         &#x27;Color Group&#x27;, &#x27;Size Group&#x27;, &#x27;Ask Size&#x27;, &#x27;S Purity&#x27;,\n",
       "                         &#x27;new_column&#x27;])</pre></div></div></div><div class=\"sk-item\"><div class=\"sk-estimator sk-toggleable\"><input class=\"sk-toggleable__control sk-hidden--visually\" id=\"sk-estimator-id-99\" type=\"checkbox\" ><label for=\"sk-estimator-id-99\" class=\"sk-toggleable__label sk-toggleable__label-arrow\">StandardScaler</label><div class=\"sk-toggleable__content\"><pre>StandardScaler()</pre></div></div></div></div></div><div class=\"sk-item\"><div class=\"sk-estimator sk-toggleable\"><input class=\"sk-toggleable__control sk-hidden--visually\" id=\"sk-estimator-id-100\" type=\"checkbox\" ><label for=\"sk-estimator-id-100\" class=\"sk-toggleable__label sk-toggleable__label-arrow\">Lasso</label><div class=\"sk-toggleable__content\"><pre>Lasso(max_iter=10000, random_state=42)</pre></div></div></div></div></div></div></div>"
      ],
      "text/plain": [
       "Pipeline(steps=[('feat_eng_pipe',\n",
       "                 Pipeline(steps=[('discretizer',\n",
       "                                  EqualFrequencyDiscretiser(variables=['Final '\n",
       "                                                                       'Value'])),\n",
       "                                 ('OneHotEncoder',\n",
       "                                  OneHotEncoder(drop_last=True,\n",
       "                                                variables=['Manager Name',\n",
       "                                                           'I/O', 'ASK Purity',\n",
       "                                                           'Final Purity',\n",
       "                                                           'Purity group',\n",
       "                                                           'ASK Color',\n",
       "                                                           'Final Color',\n",
       "                                                           'Color Group',\n",
       "                                                           'Size Group',\n",
       "                                                           'Ask Size',\n",
       "                                                           'S Purity',\n",
       "                                                           'new_column'])),\n",
       "                                 ('scaler', StandardScaler())])),\n",
       "                ('Ridge', Lasso(max_iter=10000, random_state=42))])"
      ]
     },
     "execution_count": 305,
     "metadata": {},
     "output_type": "execute_result"
    }
   ],
   "source": [
    "#initialize Ridge model\n",
    "lasso = Lasso(alpha=1.0, max_iter=10000, random_state=42)\n",
    "pipe_Lasso = Pipeline(\n",
    "    steps=[\n",
    "        # ===== feat_eng_pipe =====\n",
    "        (\"feat_eng_pipe\", feat_eng_pipe),\n",
    "        # ===== Lasso Model =====\n",
    "        (\"Ridge\",lasso),\n",
    "    ]\n",
    ")\n",
    "\n",
    "pipe_Lasso"
   ]
  },
  {
   "cell_type": "code",
   "execution_count": 306,
   "metadata": {},
   "outputs": [
    {
     "data": {
      "text/plain": [
       "array([ 1342.5331516 , -1456.39753109,  4663.76604078, ...,\n",
       "        1929.3812842 ,  9829.99828948,  -496.81316558])"
      ]
     },
     "execution_count": 306,
     "metadata": {},
     "output_type": "execute_result"
    }
   ],
   "source": [
    "# Fit\n",
    "pipe_Lasso.fit(x_train, y_train)\n",
    "\n",
    "# Make predictions\n",
    "y_pred_5 = pipe_Lasso.predict(x_test)\n",
    "y_pred_5"
   ]
  },
  {
   "cell_type": "code",
   "execution_count": 307,
   "metadata": {},
   "outputs": [
    {
     "name": "stdout",
     "output_type": "stream",
     "text": [
      "R squared of the Lasso Regressor on training set: 88.24%\n",
      "R squared of the Lasso Regressor on test set: 90.94%\n"
     ]
    }
   ],
   "source": [
    "print('R squared of the Lasso Regressor on training set: {:.2%}'.format(pipe_Lasso.score(x_train, y_train)))\n",
    "print('R squared of the Lasso Regressor on test set: {:.2%}'.format(pipe_Lasso.score(x_test, y_test)))"
   ]
  },
  {
   "cell_type": "markdown",
   "metadata": {},
   "source": [
    "# MODEL EVALUATION"
   ]
  },
  {
   "cell_type": "code",
   "execution_count": 308,
   "metadata": {},
   "outputs": [
    {
     "name": "stdout",
     "output_type": "stream",
     "text": [
      "Mean Absolute Error of the Linear Regression on test set is 7498478987.14\n"
     ]
    }
   ],
   "source": [
    "print('Mean Absolute Error of the Linear Regression on test set is {:.2f}'.format(metrics.mean_absolute_error(y_test,y_pred_1)))"
   ]
  },
  {
   "cell_type": "code",
   "execution_count": 309,
   "metadata": {},
   "outputs": [
    {
     "name": "stdout",
     "output_type": "stream",
     "text": [
      "Mean Absolute Error of the Decision Tree Regressor on test set is 180.51\n"
     ]
    }
   ],
   "source": [
    "print('Mean Absolute Error of the Decision Tree Regressor on test set is {:.2f}'.format(metrics.mean_absolute_error(y_test,y_pred_2)))"
   ]
  },
  {
   "cell_type": "code",
   "execution_count": 310,
   "metadata": {},
   "outputs": [
    {
     "name": "stdout",
     "output_type": "stream",
     "text": [
      "Mean Absolute Error of the Random Forest Regressor on test set is 163.88\n"
     ]
    }
   ],
   "source": [
    "print('Mean Absolute Error of the Random Forest Regressor on test set is {:.2f}'.format(metrics.mean_absolute_error(y_test,y_pred_3)))"
   ]
  },
  {
   "cell_type": "code",
   "execution_count": 311,
   "metadata": {},
   "outputs": [
    {
     "name": "stdout",
     "output_type": "stream",
     "text": [
      "Mean Absolute Error of the Ridge Regressor on test set is 731.30\n"
     ]
    }
   ],
   "source": [
    "print('Mean Absolute Error of the Ridge Regressor on test set is {:.2f}'.format(metrics.mean_absolute_error(y_test,y_pred_4)))"
   ]
  },
  {
   "cell_type": "code",
   "execution_count": 312,
   "metadata": {},
   "outputs": [
    {
     "name": "stdout",
     "output_type": "stream",
     "text": [
      "Mean Absolute Error of the Lasso Regressor on test set is 723.44\n"
     ]
    }
   ],
   "source": [
    "print('Mean Absolute Error of the Lasso Regressor on test set is {:.2f}'.format(metrics.mean_absolute_error(y_test,y_pred_5)))"
   ]
  }
 ],
 "metadata": {
  "kernelspec": {
   "display_name": "Python 3",
   "language": "python",
   "name": "python3"
  },
  "language_info": {
   "codemirror_mode": {
    "name": "ipython",
    "version": 3
   },
   "file_extension": ".py",
   "mimetype": "text/x-python",
   "name": "python",
   "nbconvert_exporter": "python",
   "pygments_lexer": "ipython3",
   "version": "3.11.4"
  }
 },
 "nbformat": 4,
 "nbformat_minor": 2
}
